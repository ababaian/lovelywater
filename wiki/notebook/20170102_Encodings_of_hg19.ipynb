{
 "cells": [
  {
   "cell_type": "markdown",
   "metadata": {},
   "source": [
    "# Encodings of hg19\n",
    "```\n",
    "pi:ababaian\n",
    "start: 2016 12 19\n",
    "partially complete : 2017 01 02\n",
    "```\n",
    "## Introduction\n",
    "\n",
    "This work was between Dec 19 - Jan 2nd and is now being written up into a digital notebook based on the notes I've taken.\n",
    "\n",
    "To analyze the information content of alternative encodings of hg19, a standard genome was choosen and conversion scripts were created."
   ]
  },
  {
   "cell_type": "markdown",
   "metadata": {
    "collapsed": true
   },
   "source": [
    "## Objective\n",
    "\n",
    "* Write Standard-Encoding to Alternative-Encoding Scripts\n",
    "* Create RY, SW, MK, B and Random encoded genomes for further experiments\n",
    "* Create Sub-genomes; transcriptome, coding-sequence-ome, transposable elements, simple repeats, regul-ome for sub-analysis\n"
   ]
  },
  {
   "cell_type": "markdown",
   "metadata": {},
   "source": [
    "## Materials and Methods\n",
    "\n",
    "### Resources Used\n",
    "* [UCSC hg19](http://hgdownload.soe.ucsc.edu/goldenPath/hg19/bigZips/hg19.2bit)\n",
    "\n",
    "### Software Used\n",
    "* [fastaexplode](http://www.ebi.ac.uk/about/vertebrate-genomics/software/exonerate)\n",
    "\n"
   ]
  },
  {
   "cell_type": "code",
   "execution_count": 2,
   "metadata": {
    "collapsed": false
   },
   "outputs": [
    {
     "name": "stdout",
     "output_type": "stream",
     "text": []
    }
   ],
   "source": [
    "# Resource Directory\n",
    "SERRATUS='/home/artem/Serratus'\n",
    "\n",
    "cd $SERRATUS\n",
    " mkdir -p resources\n",
    " cd resources"
   ]
  },
  {
   "cell_type": "code",
   "execution_count": null,
   "metadata": {
    "collapsed": true
   },
   "outputs": [],
   "source": [
    "## Human Genome (hg19)\n",
    "# ==============================================================\n",
    "  cd $SERRATUS/resources/\n",
    "  mkdir -p hg19\n",
    "\n",
    "# Copied hg19.fa (UCSC)\n",
    "  cp ~/resources/hg19.fa ./hg19.fa\n",
    "\n",
    "# Expand genome to all chromosomes\n",
    "  fastaexplode hg19.fa\n",
    "\n",
    "# Manually removed alternative haplotypes (higher similarity)\n",
    "# to get a more 'fair' view of the haploid genome\n",
    "# Repeat afterwards with hg38 and haplotypes included. This will likely\n",
    "# yeild even more repetition per search\n",
    "  rm chr*_*.fa hg19.fa\n",
    "  \n",
    "# Genome of chr1 ... chrX\n",
    "  cat chr* > hg19.fa\n",
    "  rm chr*\n",
    "\n",
    "\n",
    "# Note: The genome downloaded is \"Repeat Masked\" so it's important\n",
    "# to retain capital and lowercase. It is possible to analyze\n",
    "# a 'Unique' genome by simply masking all lower-case characters\n",
    "# to Ns"
   ]
  },
  {
   "cell_type": "code",
   "execution_count": null,
   "metadata": {
    "collapsed": true
   },
   "outputs": [],
   "source": [
    "## Non-Standard Encodings (hg19)\n",
    "# ==============================================================\n",
    "# Create Purine/Pyrimidine Genome (ry)\n",
    "# CA genome\n",
    "  cp hg19.fa hg19_ry.fa\n",
    "\n",
    "  # Collapse Pyrimidines\n",
    "  sed -i 's/t/c/g' hg19_ry.fa\n",
    "  sed -i 's/T/C/g' hg19_ry.fa\n",
    "\n",
    "  # Collapse Purines\n",
    "  sed -i 's/g/a/g' hg19_ry.fa\n",
    "  sed -i 's/G/A/g' hg19_ry.fa\n",
    "\n",
    "\n",
    "\n",
    "# Create Strong/Weak Genome (sw)\n",
    "# GT genome\n",
    "  cp hg19.fa hg19_sw.fa\n",
    "\n",
    "  # Collapse Strong nt\n",
    "  sed -i 's/c/g/g' hg19_sw.fa\n",
    "  sed -i 's/C/G/g' hg19_sw.fa\n",
    "\n",
    "  # Collapse Weak nt\n",
    "  sed -i 's/a/t/g' hg19_sw.fa\n",
    "  sed -i 's/A/T/g' hg19_sw.fa\n",
    "\n",
    "\n",
    "\n",
    "# Create Amino/Keto Genome (mk)\n",
    "# GA genome\n",
    "  cp hg19.fa hg19_mk.fa\n",
    "\n",
    "  # Collapse Amino nt\n",
    "  sed -i 's/c/a/g' hg19_mk.fa\n",
    "  sed -i 's/C/A/g' hg19_mk.fa\n",
    "\n",
    "  # Collapse Keto nt\n",
    "  sed -i 's/t/g/g' hg19_mk.fa\n",
    "  sed -i 's/T/G/g' hg19_mk.fa"
   ]
  },
  {
   "cell_type": "code",
   "execution_count": null,
   "metadata": {
    "collapsed": true
   },
   "outputs": [],
   "source": [
    "## Lossy Encodings (hg19)\n",
    "# ==============================================================\n",
    "# To save space, not every single nucleotide genome is included. Arbitrarily H was choosen.\n",
    "\n",
    "# As a control, include NOT-N genomes in the analysis.\n",
    "# They too include binary data of the genome but strip alot of the data\n",
    "# i.e.\n",
    "# not-G (H)\n",
    "#   A C T --> C\n",
    "#   G     --> G\n",
    "\n",
    "# not-A (B)\n",
    "#   G C T --> T\n",
    "#   A     --> A\n",
    "\n",
    "# not-T (V)\n",
    "#   A C G --> C\n",
    "#   T     --> T\n",
    "\n",
    "# not-C (D)\n",
    "#   A G T --> T\n",
    "#   C     --> C\n",
    "\n",
    "# Note V and D must use the same characters,\n",
    "# at least one of the genomes has to be ambiguous\n",
    "# AT AC AG TC TG GC are all combinations possible\n",
    "\n",
    "# Create not-G Genome (h)\n",
    "# GA genome\n",
    "  cp hg19.fa hg19_h.fa\n",
    "  # Collapse not-G nts\n",
    "  sed -i 's/[at]/c/g' hg19_h.fa\n",
    "  sed -i 's/[AT]/C/g' hg19_h.fa\n",
    "\n",
    "# CODE FOR B V D genomes\n",
    "\n",
    "\n",
    "# Create not-A Genome (b)\n",
    "# GA genome\n",
    "  cp hg19.fa hg19_b.fa\n",
    "  # Collapse not-A nts\n",
    "  sed -i 's/[gc]/t/g' hg19_b.fa\n",
    "  sed -i 's/[GC]/T/g' hg19_b.fa\n",
    "\n",
    "# Create not-T Genome (v)\n",
    "# GA genome\n",
    "  cp hg19.fa hg19_v.fa\n",
    "  # Collapse not-A nts\n",
    "  sed -i 's/[ag]/c/g' hg19_v.fa\n",
    "  sed -i 's/[AG]/C/g' hg19_v.fa\n",
    "\n",
    "# Create not-C Genome (d)\n",
    "# GA genome\n",
    "  cp hg19.fa hg19_d.fa\n",
    "  # Collapse not-A nts\n",
    "  sed -i 's/[ag]/t/g' hg19_d.fa\n",
    "  sed -i 's/[AG]/T/g' hg19_d.fa"
   ]
  },
  {
   "cell_type": "markdown",
   "metadata": {},
   "source": [
    "## Further Genomes / Sub-genomes to analyze\n",
    "\n",
    "* Human Coding Sequences (CDS)\n",
    "* Human Transcriptome (GENCODE annotation)\n",
    "* Human Transposable Elements (RepeatMasker)\n",
    "* Human Genome hg38 with haplotype data\n",
    "* Mouse mm10\n",
    "* E. Coli Genome\n"
   ]
  }
 ],
 "metadata": {
  "kernelspec": {
   "display_name": "Bash",
   "language": "bash",
   "name": "bash"
  },
  "language_info": {
   "codemirror_mode": "shell",
   "file_extension": ".sh",
   "mimetype": "text/x-sh",
   "name": "bash"
  }
 },
 "nbformat": 4,
 "nbformat_minor": 0
}
