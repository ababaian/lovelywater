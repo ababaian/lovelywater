{
 "cells": [
  {
   "cell_type": "markdown",
   "metadata": {},
   "source": [
    "# Calculating K-mer Counts in hg19\n",
    "```\n",
    "pi:ababaian\n",
    "start: 2016 12 19\n",
    "complete : 2017 01 02\n",
    "```\n",
    "## Introduction\n",
    "\n",
    "This work was between Dec 19 - Jan 2nd and is now being written up into a digital notebook based on the notes I've taken.\n",
    "\n",
    "To measure Shannon information content of different k-mers in each encoding it will be important to count how much each k-mer occurs within the genome since this directly relates.\n",
    "\n",
    "- *Shannon Information Content* : \n",
    "    h(x) = log2 ( 1 / P(x) )\n",
    "    \n",
    "- *Entropy of an ensemble X* :\n",
    "    H(X) = sum[ P_i(x) * log ( 1 / P_i(x) ) ] for all i\n"
   ]
  },
  {
   "cell_type": "markdown",
   "metadata": {
    "collapsed": true
   },
   "source": [
    "## Objective\n",
    "\n",
    "* Count how many K-mers occur in the standard and non-standard encodings of hg19\n",
    "* Establish a baseline measurement if there is differences in information between encodings\n"
   ]
  },
  {
   "cell_type": "markdown",
   "metadata": {},
   "source": [
    "## Materials and Methods\n",
    "\n",
    "### Software\n",
    "* [Genometools / Tallymer](http://genometools.org/pub/genometools-1.5.9.tar.gz)"
   ]
  },
  {
   "cell_type": "code",
   "execution_count": 2,
   "metadata": {
    "collapsed": false
   },
   "outputs": [
    {
     "name": "stdout",
     "output_type": "stream",
     "text": []
    }
   ],
   "source": [
    "# Global Variables\n",
    "SERRATUS='/home/artem/Serratus'"
   ]
  },
  {
   "cell_type": "code",
   "execution_count": null,
   "metadata": {
    "collapsed": true
   },
   "outputs": [],
   "source": [
    "## Tallymer Indexing\n",
    "# For each encoding hg19, hg19_ry, hg19_sw, hg19_mk, hg19_h\n",
    "# create a tallymer index file for looking up k-mers\n",
    "cd $SERRATUS/resources\n",
    "    mkdir -p hg19_tally; cd hg19_tally\n",
    "    # Link genomes to tallymer index folder\n",
    "    ln -s ../hg19/hg19.fa ./\n",
    "    ln -s ../hg19/hg19_ry.fa ./\n",
    "    ln -s ../hg19/hg19_sw.fa ./\n",
    "    ln -s ../hg19/hg19_mk.fa ./\n",
    "    ln -s ../hg19/hg19_h.fa ./\n",
    "\n",
    "\n",
    "# Index each genome by it's K-mer\n",
    "    gt suffixerator -dna -pl -tis -suf -lcp -v -parts 4 -db hg19.fa -indexname hg19\n",
    "    gt suffixerator -dna -pl -tis -suf -lcp -v -parts 4 -db hg19_ry.fa -indexname hg19_ry\n",
    "    gt suffixerator -dna -pl -tis -suf -lcp -v -parts 4 -db hg19_sw.fa -indexname hg19_sw\n",
    "    gt suffixerator -dna -pl -tis -suf -lcp -v -parts 4 -db hg19_mk.fa -indexname hg19_mk\n",
    "    gt suffixerator -dna -pl -tis -suf -lcp -v -parts 4 -db hg19_h.fa -indexname hg19_h\n",
    "    "
   ]
  },
  {
   "cell_type": "code",
   "execution_count": 1,
   "metadata": {
    "code_folding": [],
    "collapsed": false
   },
   "outputs": [
    {
     "name": "stdout",
     "output_type": "stream",
     "text": []
    }
   ],
   "source": [
    "## Sample Standard Output after running suffixerator (genome indexer)\n",
    "# Complete output can be viewed at in '~/resources/hg19_tally/index.stdout'\n",
    "\n",
    "#gt suffixerator -dna -pl -tis -suf -lcp -v -parts 4 -db hg19.fa -indexname hg19\n",
    "\n",
    "\n",
    "# dna=yes\n",
    "# indexname=\"hg19\"\n",
    "# prefixlength=automatic\n",
    "# storespecialcodes=false\n",
    "# inputfile[0]=hg19.fa\n",
    "# indexname=hg19\n",
    "# outtistab=true,outsuftab=true,outlcptab=true,outbwttab=false,outbcktab=false,outdestab=true,outsdstab=true,outssptab=true,outkystab=false\n",
    "# parts=4\n",
    "# maxinsertionsort=3\n",
    "# maxbltriesort=1000\n",
    "# maxcountingsort=4000\n",
    "# lcpdist=false\n",
    "# sizeof (GtUword)=64\n",
    "# wildcardranges of length 1=45\n",
    "# wildcardranges of length 2=6\n",
    "# wildcardranges of length 3=1\n",
    "# wildcardranges of length 4=1\n",
    "# wildcardranges of length 10=4\n",
    "# wildcardranges of length 20=1\n",
    "# wildcardranges of length 100=1\n",
    "# wildcardranges of length 200=2\n",
    "# wildcardranges of length 500=1\n",
    "# wildcardranges of length 700=1\n",
    "# wildcardranges of length 851=1\n",
    "# wildcardranges of length 1000=2\n",
    "# wildcardranges of length 1500=1\n",
    "# wildcardranges of length 5100=1\n",
    "# wildcardranges of length 5290=1\n",
    "# wildcardranges of length 6000=1\n",
    "# wildcardranges of length 10000=20\n",
    "# wildcardranges of length 16500=1\n",
    "# wildcardranges of length 19000=1\n",
    "# wildcardranges of length 24900=1\n",
    "# wildcardranges of length 25000=3\n",
    "# wildcardranges of length 30000=1\n",
    "# wildcardranges of length 40000=1\n",
    "# wildcardranges of length 40442=1\n",
    "# wildcardranges of length 50000=155\n",
    "# wildcardranges of length 55500=1\n",
    "# wildcardranges of length 60000=20\n",
    "# wildcardranges of length 100000=28\n",
    "# wildcardranges of length 110000=1\n",
    "# wildcardranges of length 142000=1\n",
    "# wildcardranges of length 150000=27\n",
    "# wildcardranges of length 200000=1\n",
    "# wildcardranges of length 307000=1\n",
    "# wildcardranges of length 486181=1\n",
    "# wildcardranges of length 1050000=1\n",
    "# wildcardranges of length 3000000=9\n",
    "# wildcardranges of length 3100000=6\n",
    "# wildcardranges of length 3150000=1\n",
    "# wildcardranges of length 3200000=1\n",
    "# wildcardranges of length 9411193=1\n",
    "# wildcardranges of length 11100000=1\n",
    "# wildcardranges of length 16050000=1\n",
    "# wildcardranges of length 18150000=1\n",
    "# wildcardranges of length 19000000=1\n",
    "# wildcardranges of length 19020000=1\n",
    "# wildcardranges of length 20000000=1\n",
    "# wildcardranges of length 21050000=1\n",
    "# wildcardranges of length 30000000=1\n",
    "# init character encoding (uint32, 773926674 bytes, 2.00 bits/symbol)\n",
    "# init ssptab encoding (uint32, 104 bytes, 0.00 bits/symbol)\n",
    "# totallength=3095694007\n",
    "# numofsequences=25\n",
    "# specialcharacters=234350305\n",
    "# specialranges=342\n",
    "# realspecialranges=342\n",
    "# wildcards=234350281\n",
    "# wildcardranges=362\n",
    "# realwildcardranges=362\n",
    "# occurrences(a)=844868045\n",
    "# occurrences(c)=585017944\n",
    "# occurrences(g)=585360436\n",
    "# occurrences(t)=846097277\n",
    "# automatically determined prefixlength=13\n",
    "# maxinsertionsort=3\n",
    "# maxbltriesort=1000\n",
    "# maxcountingsort=4000\n",
    "# storespecialcodes=false\n",
    "# cmpcharbychar=false\n",
    "# totallength=3095694007\n",
    "# sizeof (leftborder)=268435460 bytes\n",
    "# sizeof (countspecialcodes)=67108864 bytes\n",
    "# sizeof (distpfxidx)=22369616 bytes\n",
    "# sizeof (bcktab)=357913940 bytes\n",
    "# largest bucket size=1733658\n",
    "# widthofpart[0]=715335929\n",
    "# widthofpart[1]=715336241\n",
    "# widthofpart[2]=715335670\n",
    "# widthofpart[3]=715335862\n",
    "# create suffix_sort_space: suftab uses 64bit values: maxvalue=3095694007,numofentries=715336241\n",
    "# compute part 0: 715335929 suffixes,14587585 buckets from 0..14587584\n",
    "# used workspace for sorting: 0.11 MB\n",
    "# countinsertionsort=1638691\n",
    "# countbltriesort=12241539\n",
    "# countcountingsort=62848\n",
    "# countshortreadsort=0\n",
    "# countradixsort=0\n",
    "# counttqsort=16483\n",
    "# compute part 1: 715336241 suffixes,18969420 buckets from 14587585..33557004\n",
    "# countinsertionsort=2504730\n",
    "# countbltriesort=14570021\n",
    "# countcountingsort=61746\n",
    "# countshortreadsort=0\n",
    "# countradixsort=0\n",
    "# counttqsort=18972\n",
    "# compute part 2: 715335670 suffixes,19935928 buckets from 33557005..53492932\n",
    "# countinsertionsort=2608844\n",
    "# countbltriesort=15807519\n",
    "# countcountingsort=59223\n",
    "# countshortreadsort=0\n",
    "# countradixsort=0\n",
    "# counttqsort=18622\n",
    "# compute part 3: 715335862 suffixes,13615931 buckets from 53492933..67108863\n",
    "# countinsertionsort=1531548\n",
    "# countbltriesort=11593005\n",
    "# countcountingsort=66204\n",
    "# countshortreadsort=0\n",
    "# countradixsort=0\n",
    "# counttqsort=17857"
   ]
  },
  {
   "cell_type": "code",
   "execution_count": 3,
   "metadata": {
    "collapsed": false
   },
   "outputs": [
    {
     "name": "stdout",
     "output_type": "stream",
     "text": [
      "total 136G\r\n",
      "drwxrwxr-x 2 artem artem 4.0K Jan  3 10:40 .\r\n",
      "drwxrwxr-x 4 artem artem 4.0K Jan  3 10:34 ..\r\n",
      "-rw-rw-r-- 1 artem artem  154 Dec 20 13:04 hg19.des\r\n",
      "-rw-rw-r-- 1 artem artem 739M Dec 20 13:06 hg19.esq\r\n",
      "lrwxrwxrwx 1 artem artem   43 Jan  2 18:34 hg19.fa -> /home/artem/Serratus/resources/hg19/hg19.fa\r\n",
      "-rw-rw-r-- 1 artem artem  154 Dec 22 20:52 hg19_h.des\r\n",
      "-rw-rw-r-- 1 artem artem 739M Dec 22 20:54 hg19_h.esq\r\n",
      "lrwxrwxrwx 1 artem artem   45 Jan  2 18:34 hg19_h.fa -> /home/artem/Serratus/resources/hg19/hg19_h.fa\r\n",
      "-rw-rw-r-- 1 artem artem 2.9G Dec 23 06:25 hg19_h.lcp\r\n",
      "-rw-rw-r-- 1 artem artem 472M Dec 23 06:25 hg19_h.llv\r\n",
      "-rw-rw-r-- 1 artem artem  825 Dec 22 20:52 hg19_h.md5\r\n",
      "-rw-rw-r-- 1 artem artem  515 Dec 23 06:25 hg19_h.prj\r\n",
      "-rw-rw-r-- 1 artem artem  192 Dec 22 20:52 hg19_h.sds\r\n",
      "-rw-rw-r-- 1 artem artem  104 Dec 22 20:54 hg19_h.ssp\r\n",
      "-rw-rw-r-- 1 artem artem  24G Dec 23 06:25 hg19_h.suf\r\n",
      "-rw-rw-r-- 1 artem artem 2.9G Dec 20 14:37 hg19.lcp\r\n",
      "-rw-rw-r-- 1 artem artem 259M Dec 20 14:37 hg19.llv\r\n",
      "-rw-rw-r-- 1 artem artem  825 Dec 20 13:04 hg19.md5\r\n",
      "-rw-rw-r-- 1 artem artem  154 Dec 21 16:14 hg19_mk.des\r\n",
      "-rw-rw-r-- 1 artem artem 739M Dec 21 16:16 hg19_mk.esq\r\n",
      "lrwxrwxrwx 1 artem artem   46 Jan  2 18:34 hg19_mk.fa -> /home/artem/Serratus/resources/hg19/hg19_mk.fa\r\n",
      "-rw-rw-r-- 1 artem artem 2.9G Dec 21 20:53 hg19_mk.lcp\r\n",
      "-rw-rw-r-- 1 artem artem 306M Dec 21 20:53 hg19_mk.llv\r\n",
      "-rw-rw-r-- 1 artem artem  825 Dec 21 16:14 hg19_mk.md5\r\n",
      "-rw-rw-r-- 1 artem artem  515 Dec 21 20:53 hg19_mk.prj\r\n",
      "-rw-rw-r-- 1 artem artem  192 Dec 21 16:14 hg19_mk.sds\r\n",
      "-rw-rw-r-- 1 artem artem  104 Dec 21 16:16 hg19_mk.ssp\r\n",
      "-rw-rw-r-- 1 artem artem  24G Dec 21 20:53 hg19_mk.suf\r\n",
      "-rw-rw-r-- 1 artem artem  515 Dec 20 14:37 hg19.prj\r\n",
      "-rw-rw-r-- 1 artem artem  154 Dec 20 16:03 hg19_ry.des\r\n",
      "-rw-rw-r-- 1 artem artem 739M Dec 20 16:04 hg19_ry.esq\r\n",
      "lrwxrwxrwx 1 artem artem   46 Jan  2 18:34 hg19_ry.fa -> /home/artem/Serratus/resources/hg19/hg19_ry.fa\r\n",
      "-rw-rw-r-- 1 artem artem 2.9G Dec 20 20:42 hg19_ry.lcp\r\n",
      "-rw-rw-r-- 1 artem artem 631M Dec 20 20:42 hg19_ry.llv\r\n",
      "-rw-rw-r-- 1 artem artem  825 Dec 20 16:03 hg19_ry.md5\r\n",
      "-rw-rw-r-- 1 artem artem  515 Dec 20 20:42 hg19_ry.prj\r\n",
      "-rw-rw-r-- 1 artem artem  192 Dec 20 16:03 hg19_ry.sds\r\n",
      "-rw-rw-r-- 1 artem artem  104 Dec 20 16:04 hg19_ry.ssp\r\n",
      "-rw-rw-r-- 1 artem artem  24G Dec 20 20:42 hg19_ry.suf\r\n",
      "-rw-rw-r-- 1 artem artem  192 Dec 20 13:04 hg19.sds\r\n",
      "-rw-rw-r-- 1 artem artem  104 Dec 20 13:06 hg19.ssp\r\n",
      "-rw-rw-r-- 1 artem artem  24G Dec 20 14:37 hg19.suf\r\n",
      "-rw-rw-r-- 1 artem artem  154 Dec 21 00:02 hg19_sw.des\r\n",
      "-rw-rw-r-- 1 artem artem 739M Dec 21 00:04 hg19_sw.esq\r\n",
      "lrwxrwxrwx 1 artem artem   46 Jan  2 18:34 hg19_sw.fa -> /home/artem/Serratus/resources/hg19/hg19_sw.fa\r\n",
      "-rw-rw-r-- 1 artem artem 2.9G Dec 21 04:11 hg19_sw.lcp\r\n",
      "-rw-rw-r-- 1 artem artem 301M Dec 21 04:11 hg19_sw.llv\r\n",
      "-rw-rw-r-- 1 artem artem  825 Dec 21 00:02 hg19_sw.md5\r\n",
      "-rw-rw-r-- 1 artem artem  515 Dec 21 04:11 hg19_sw.prj\r\n",
      "-rw-rw-r-- 1 artem artem  192 Dec 21 00:02 hg19_sw.sds\r\n",
      "-rw-rw-r-- 1 artem artem  104 Dec 21 00:04 hg19_sw.ssp\r\n",
      "-rw-rw-r-- 1 artem artem  24G Dec 21 04:11 hg19_sw.suf\r\n",
      "-rw-rw-r-- 1 artem artem  17K Jan  3 10:40 tally_index.stdout\r\n"
     ]
    }
   ],
   "source": [
    "# List Tallymer Directory\n",
    "ls -alh $SERRATUS/resources/hg19_tally"
   ]
  },
  {
   "cell_type": "markdown",
   "metadata": {},
   "source": [
    "## Results\n"
   ]
  },
  {
   "cell_type": "markdown",
   "metadata": {},
   "source": [
    "## Discussion\n"
   ]
  }
 ],
 "metadata": {
  "kernelspec": {
   "display_name": "Bash",
   "language": "bash",
   "name": "bash"
  },
  "language_info": {
   "codemirror_mode": "shell",
   "file_extension": ".sh",
   "mimetype": "text/x-sh",
   "name": "bash"
  }
 },
 "nbformat": 4,
 "nbformat_minor": 0
}
