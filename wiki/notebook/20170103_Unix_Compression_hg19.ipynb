{
 "cells": [
  {
   "cell_type": "markdown",
   "metadata": {},
   "source": [
    "# Unix Compression of hg19 Genomes\n",
    "```\n",
    "pi:ababaian\n",
    "start: 2017 01 03\n",
    "complete : 2017 01 03\n",
    "```\n",
    "## Introduction\n",
    "\n",
    "It's quite a simple idea here. As information content goes up in a set, the compressability of that file decreases. Notably DNA sequences do not really compress very well using standard unix algorithms.\n",
    "\n",
    "### Hypothesis\n",
    "\n",
    "* The compression ratio of non-standard encodings of the genome will be higher then the standard encoding.\n",
    "\n",
    "* The difference in compression ratio between the non-standard encodings will more closely relflect information differences.\n",
    "\n",
    "Note: This isn't perfect since any single alt-encoding doesn't contain all the information of the standard encoding but it will still give a measure IF this type of compression can work at all."
   ]
  },
  {
   "cell_type": "markdown",
   "metadata": {
    "collapsed": true
   },
   "source": [
    "## Objective\n",
    "\n",
    "- For each encdoing, extract chr10\n",
    "- Apply each compression algorithm available in unix to chr10_enc.fa\n",
    "- Measure the size of the output in bits"
   ]
  },
  {
   "cell_type": "markdown",
   "metadata": {},
   "source": [
    "## Materials and Methods\n",
    "Everything should be capable on most unix systems"
   ]
  },
  {
   "cell_type": "code",
   "execution_count": 4,
   "metadata": {
    "collapsed": false
   },
   "outputs": [
    {
     "name": "stdout",
     "output_type": "stream",
     "text": []
    }
   ],
   "source": [
    "# Global Variables\n",
    "SERRATUS='/home/artem/Serratus/'"
   ]
  },
  {
   "cell_type": "code",
   "execution_count": 3,
   "metadata": {
    "collapsed": false
   },
   "outputs": [
    {
     "name": "stdout",
     "output_type": "stream",
     "text": [
      "Linux 4.4.0-57-generic #78-Ubuntu SMP Fri Dec 9 23:50:32 UTC 2016 x86_64 GNU/Linux\r\n",
      "WARNING: you should run this program as super-user.\r\n",
      "\r",
      "\r",
      "DMI\r",
      "\r",
      "   \r",
      "SMP\r",
      "\r",
      "   \r",
      "PA-RISC\r",
      "\r",
      "       \r",
      "device-tree\r",
      "\r",
      "           \r",
      "SPD\r",
      "\r",
      "   \r",
      "memory\r",
      "\r",
      "      \r",
      "/proc/cpuinfo\r",
      "\r",
      "             \r",
      "CPUID\r",
      "\r",
      "     \r",
      "PCI (sysfs)\r",
      "\r",
      "           \r",
      "ISA PnP\r",
      "\r",
      "       \r",
      "PCMCIA\r",
      "\r",
      "      \r",
      "PCMCIA\r",
      "\r",
      "      \r",
      "kernel device tree (sysfs)\r",
      "\r",
      "                          \r",
      "USB\r",
      "\r",
      "   \r",
      "IDE\r",
      "\r",
      "   \r",
      "SCSI\r",
      "\r",
      "    \r",
      "Network interfaces\r",
      "\r",
      "                  \r",
      "Framebuffer devices\r",
      "\r",
      "                   \r",
      "Display\r",
      "\r",
      "       \r",
      "CPUFreq\r",
      "\r",
      "       \r",
      "ABI\r",
      "\r",
      "   \r",
      "\r",
      "  *-cpu\r\n",
      "       product: Intel(R) Core(TM) i7-2620M CPU @ 2.70GHz\r\n",
      "       vendor: Intel Corp.\r\n",
      "       physical id: 1\r\n",
      "       bus info: cpu@0\r\n",
      "       size: 1299MHz\r\n",
      "       capacity: 3400MHz\r\n",
      "       width: 64 bits\r\n",
      "       capabilities: fpu fpu_exception wp vme de pse tsc msr pae mce cx8 apic sep mtrr pge mca cmov pat pse36 clflush dts acpi mmx fxsr sse sse2 ss ht tm pbe syscall nx rdtscp x86-64 constant_tsc arch_perfmon pebs bts nopl xtopology nonstop_tsc aperfmperf eagerfpu pni pclmulqdq dtes64 monitor ds_cpl vmx smx est tm2 ssse3 cx16 xtpr pdcm pcid sse4_1 sse4_2 x2apic popcnt tsc_deadline_timer aes xsave avx lahf_lm epb tpr_shadow vnmi flexpriority ept vpid xsaveopt dtherm ida arat pln pts cpufreq\r\n",
      "WARNING: output may be incomplete or inaccurate, you should run this program as super-user.\r\n"
     ]
    }
   ],
   "source": [
    "uname -svrpo\n",
    "lshw -class cpu"
   ]
  },
  {
   "cell_type": "code",
   "execution_count": 6,
   "metadata": {
    "collapsed": false
   },
   "outputs": [
    {
     "name": "stdout",
     "output_type": "stream",
     "text": [
      "** FATAL ERROR **: Index path [hg19.index] already exists\r\n",
      "exiting ...\r\n"
     ]
    }
   ],
   "source": [
    "# Navigate to hg19 resource folder\n",
    "cd $SERRATUS/resources/hg19\n",
    "\n",
    "# Fasta Index each genome\n",
    "  fastaindex hg19.fa hg19.index\n",
    "  fastaindex hg19_ry.fa hg19_ry.index\n",
    "  fastaindex hg19_sw.fa hg19_sw.index\n",
    "  fastaindex hg19_mk.fa hg19_mk.index\n",
    "  fastaindex hg19_h.fa hg19_h.index"
   ]
  },
  {
   "cell_type": "code",
   "execution_count": 23,
   "metadata": {
    "collapsed": false
   },
   "outputs": [
    {
     "name": "stdout",
     "output_type": "stream",
     "text": []
    }
   ],
   "source": [
    "# Extract chromosome 10 from each file\n",
    "cd $SERRATUS/resources/hg19\n",
    "  fastafetch hg19.fa hg19.index chr10 > chr10.fa\n",
    "  fastafetch hg19_ry.fa hg19_ry.index chr10 > chr10_ry.fa\n",
    "  fastafetch hg19_sw.fa hg19_sw.index ghr10 > chr10_sw.fa\n",
    "  fastafetch hg19_mk.fa hg19_mk.index ahr10 > chr10_mk.fa\n",
    "  fastafetch hg19_h.fa hg19_h.index chr10 > chr10_h.fa\n",
    "  \n",
    "# Move to chr10 folder\n",
    "    mkdir -p chr10\n",
    "    mv chr10*.fa ./chr10/\n",
    "    cd chr10"
   ]
  },
  {
   "cell_type": "code",
   "execution_count": 12,
   "metadata": {
    "collapsed": false
   },
   "outputs": [
    {
     "name": "stdout",
     "output_type": "stream",
     "text": [
      "total 671264\r\n",
      "-rw-rw-r-- 1 artem artem 137470965 Jan  3 12:50 chr10.fa\r\n",
      "-rw-rw-r-- 1 artem artem 137470965 Jan  3 12:50 chr10_h.fa\r\n",
      "-rw-rw-r-- 1 artem artem 137470965 Jan  3 12:50 chr10_mk.fa\r\n",
      "-rw-rw-r-- 1 artem artem 137470965 Jan  3 12:50 chr10_ry.fa\r\n",
      "-rw-rw-r-- 1 artem artem 137470965 Jan  3 12:50 chr10_sw.fa\r\n"
     ]
    }
   ],
   "source": [
    "# File sizes\n",
    "ls -l\n",
    "\n",
    "# Chromsoome 10 files\n",
    "CHRTEN=$(ls)"
   ]
  },
  {
   "cell_type": "code",
   "execution_count": 13,
   "metadata": {
    "collapsed": false
   },
   "outputs": [
    {
     "name": "stdout",
     "output_type": "stream",
     "text": [
      "bzip2, a block-sorting file compressor.  Version 1.0.6, 6-Sept-2010.\r\n",
      "   \r\n",
      "   Copyright (C) 1996-2010 by Julian Seward.\r\n",
      "   \r\n",
      "   This program is free software; you can redistribute it and/or modify\r\n",
      "   it under the terms set out in the LICENSE file, which is included\r\n",
      "   in the bzip2-1.0.6 source distribution.\r\n",
      "   \r\n",
      "   This program is distributed in the hope that it will be useful,\r\n",
      "   but WITHOUT ANY WARRANTY; without even the implied warranty of\r\n",
      "   MERCHANTABILITY or FITNESS FOR A PARTICULAR PURPOSE.  See the\r\n",
      "   LICENSE file for more details.\r\n",
      "   \r\n"
     ]
    }
   ],
   "source": [
    "# Bzip2\n",
    "bzip2 --version\n",
    "\n",
    "for FA in $CHRTEN\n",
    "do\n",
    "    bzip2 -dzc $FA > $FA.bzip2\n",
    "done\n",
    "\n",
    "# ls -l"
   ]
  },
  {
   "cell_type": "code",
   "execution_count": 14,
   "metadata": {
    "collapsed": false
   },
   "outputs": [
    {
     "name": "stdout",
     "output_type": "stream",
     "text": [
      "total 796456\r\n",
      "-rw-rw-r-- 1 artem artem 137470965 Jan  3 12:50 chr10.fa\r\n",
      "-rw-rw-r-- 1 artem artem  37024762 Jan  3 12:57 chr10.fa.bzip2\r\n",
      "-rw-rw-r-- 1 artem artem 137470965 Jan  3 12:50 chr10_h.fa\r\n",
      "-rw-rw-r-- 1 artem artem  17208582 Jan  3 12:57 chr10_h.fa.bzip2\r\n",
      "-rw-rw-r-- 1 artem artem 137470965 Jan  3 12:50 chr10_mk.fa\r\n",
      "-rw-rw-r-- 1 artem artem  23576941 Jan  3 12:58 chr10_mk.fa.bzip2\r\n",
      "-rw-rw-r-- 1 artem artem 137470965 Jan  3 12:50 chr10_ry.fa\r\n",
      "-rw-rw-r-- 1 artem artem  22630493 Jan  3 12:58 chr10_ry.fa.bzip2\r\n",
      "-rw-rw-r-- 1 artem artem 137470965 Jan  3 12:50 chr10_sw.fa\r\n",
      "-rw-rw-r-- 1 artem artem  27740515 Jan  3 12:58 chr10_sw.fa.bzip2\r\n"
     ]
    }
   ],
   "source": [
    "ls -l"
   ]
  },
  {
   "cell_type": "code",
   "execution_count": 17,
   "metadata": {
    "collapsed": false
   },
   "outputs": [
    {
     "name": "stdout",
     "output_type": "stream",
     "text": [
      "gzip 1.6\r\n",
      "Copyright (C) 2007, 2010, 2011 Free Software Foundation, Inc.\r\n",
      "Copyright (C) 1993 Jean-loup Gailly.\r\n",
      "This is free software.  You may redistribute copies of it under the terms of\r\n",
      "the GNU General Public License <http://www.gnu.org/licenses/gpl.html>.\r\n",
      "There is NO WARRANTY, to the extent permitted by law.\r\n",
      "\r\n",
      "Written by Jean-loup Gailly.\r\n",
      "total 815052\r\n",
      "-rw-rw-r-- 1 artem artem 137470965 Jan  3 12:50 chr10.fa\r\n",
      "-rw-rw-r-- 1 artem artem  42312950 Jan  3 13:46 chr10.fa.gzip\r\n",
      "-rw-rw-r-- 1 artem artem 137470965 Jan  3 12:50 chr10_h.fa\r\n",
      "-rw-rw-r-- 1 artem artem  21541861 Jan  3 13:46 chr10_h.fa.gzip\r\n",
      "-rw-rw-r-- 1 artem artem 137470965 Jan  3 12:50 chr10_mk.fa\r\n",
      "-rw-rw-r-- 1 artem artem  25970824 Jan  3 13:47 chr10_mk.fa.gzip\r\n",
      "-rw-rw-r-- 1 artem artem 137470965 Jan  3 12:50 chr10_ry.fa\r\n",
      "-rw-rw-r-- 1 artem artem  25590474 Jan  3 13:47 chr10_ry.fa.gzip\r\n",
      "-rw-rw-r-- 1 artem artem 137470965 Jan  3 12:50 chr10_sw.fa\r\n",
      "-rw-rw-r-- 1 artem artem  31812467 Jan  3 13:47 chr10_sw.fa.gzip\r\n"
     ]
    }
   ],
   "source": [
    "# gzip\n",
    "gzip --version\n",
    "\n",
    "for FA in $CHRTEN\n",
    "do\n",
    "    gzip -c $FA > $FA.gzip\n",
    "done\n",
    "\n",
    "ls -l"
   ]
  },
  {
   "cell_type": "code",
   "execution_count": 24,
   "metadata": {
    "collapsed": false
   },
   "outputs": [
    {
     "name": "stdout",
     "output_type": "stream",
     "text": []
    }
   ],
   "source": [
    "# Remove Ns\n",
    "# Change all cases to uppercase\n",
    "sed 's/N//g' chr10.fa | sed '/^$/d' - | tr A-Z a-z > chr10.tmp\n",
    "  mv chr10.tmp chr10.fa\n",
    "        \n",
    "sed 's/N//g' chr10_ry.fa | sed '/^$/d' - | tr A-Z a-z > chr10.tmp\n",
    "  mv chr10.tmp chr10_ry.fa\n",
    "sed 's/N//g' chr10_sw.fa | sed '/^$/d' - | tr A-Z a-z > chr10.tmp\n",
    "  mv chr10.tmp chr10_sw.fa\n",
    "sed 's/N//g' chr10_mk.fa | sed '/^$/d' - | tr A-Z a-z > chr10.tmp\n",
    "  mv chr10.tmp chr10_mk.fa\n",
    "sed 's/N//g' chr10_h.fa  | sed '/^$/d' - | tr A-Z a-z > chr10.tmp\n",
    "  mv chr10.tmp chr10_h.fa"
   ]
  },
  {
   "cell_type": "code",
   "execution_count": 25,
   "metadata": {
    "collapsed": false
   },
   "outputs": [
    {
     "name": "stdout",
     "output_type": "stream",
     "text": [
      "xz (XZ Utils) 5.1.0alpha\r\n",
      "liblzma 5.1.0alpha\r\n"
     ]
    }
   ],
   "source": [
    "xz -V"
   ]
  },
  {
   "cell_type": "code",
   "execution_count": 26,
   "metadata": {
    "collapsed": false
   },
   "outputs": [
    {
     "name": "stdout",
     "output_type": "stream",
     "text": [
      "total 995744\r\n",
      "-rw-rw-r-- 1 artem artem 133190688 Jan  3 13:58 chr10.fa\r\n",
      "-rw-rw-r-- 1 artem artem  36475036 Jan  3 14:02 chr10.fa.bzip2\r\n",
      "-rw-rw-r-- 1 artem artem  39559214 Jan  3 14:03 chr10.fa.gzip\r\n",
      "-rw-rw-r-- 1 artem artem  32561152 Jan  3 14:02 chr10.fa.xz\r\n",
      "-rw-rw-r-- 1 artem artem 133190688 Jan  3 13:58 chr10_h.fa\r\n",
      "-rw-rw-r-- 1 artem artem  16617129 Jan  3 14:08 chr10_h.fa.bzip2\r\n",
      "-rw-rw-r-- 1 artem artem  20231126 Jan  3 14:09 chr10_h.fa.gzip\r\n",
      "-rw-rw-r-- 1 artem artem  14816516 Jan  3 14:08 chr10_h.fa.xz\r\n",
      "-rw-rw-r-- 1 artem artem 133190688 Jan  3 13:58 chr10_mk.fa\r\n",
      "-rw-rw-r-- 1 artem artem  22982657 Jan  3 14:15 chr10_mk.fa.bzip2\r\n",
      "-rw-rw-r-- 1 artem artem  24013369 Jan  3 14:15 chr10_mk.fa.gzip\r\n",
      "-rw-rw-r-- 1 artem artem  18682512 Jan  3 14:15 chr10_mk.fa.xz\r\n",
      "-rw-rw-r-- 1 artem artem 133190688 Jan  3 13:58 chr10_ry.fa\r\n",
      "-rw-rw-r-- 1 artem artem  22080751 Jan  3 14:22 chr10_ry.fa.bzip2\r\n",
      "-rw-rw-r-- 1 artem artem  23786189 Jan  3 14:22 chr10_ry.fa.gzip\r\n",
      "-rw-rw-r-- 1 artem artem  17769008 Jan  3 14:21 chr10_ry.fa.xz\r\n",
      "-rw-rw-r-- 1 artem artem 133190688 Jan  3 13:58 chr10_sw.fa\r\n",
      "-rw-rw-r-- 1 artem artem  22161976 Jan  3 14:29 chr10_sw.fa.bzip2\r\n",
      "-rw-rw-r-- 1 artem artem  23702722 Jan  3 14:29 chr10_sw.fa.gzip\r\n",
      "-rw-rw-r-- 1 artem artem  18187388 Jan  3 14:29 chr10_sw.fa.xz\r\n",
      "-rw-rw-r-- 1 artem artem        29 Jan  3 14:17 test.bin\r\n"
     ]
    }
   ],
   "source": [
    "# bzip2 & gzip & xz\n",
    "\n",
    "for FA in $CHRTEN\n",
    "do\n",
    "    xz -c $FA > $FA.xz\n",
    "    bzip2 -dzc $FA > $FA.bzip2\n",
    "    gzip -c $FA > $FA.gzip\n",
    "done\n",
    "\n",
    "ls -l"
   ]
  },
  {
   "cell_type": "markdown",
   "metadata": {},
   "source": [
    "## Results & Discussion\n",
    "\n",
    "At fundamental level the compression does appear to be working more efficiently in the the non-standard encodings over the standard encoding\n",
    "\n",
    "|File|bits|Compression_Ratio|\n",
    "|----|----|-----------------|\n",
    "|chr10.fa|133190688|1|\n",
    "|chr10.fa.bzip2|36475036|3.65155741|\n",
    "|chr10.fa.gzip|39559214|3.366868917|\n",
    "|chr10.fa.xz|32561152|4.090478371|\n",
    "|chr10_h.fa|133190688|1|\n",
    "|chr10_h.fa.bzip2|16617129|8.015264731|\n",
    "|chr10_h.fa.gzip|20231126|6.58345403|\n",
    "|chr10_h.fa.xz|14816516|8.989339194|\n",
    "|chr10_mk.fa|133190688|1|\n",
    "|chr10_mk.fa.bzip2|22982657|5.795269363|\n",
    "|chr10_mk.fa.gzip|24013369|5.546522356|\n",
    "|chr10_mk.fa.xz|18682512|7.129163787|\n",
    "|chr10_ry.fa|133190688|1|\n",
    "|chr10_ry.fa.bzip2|22080751|6.031981793|\n",
    "|chr10_ry.fa.gzip|23786189|5.59949675|\n",
    "|chr10_ry.fa.xz|17769008|7.495673816|\n",
    "|chr10_sw.fa|133190688|1|\n",
    "|chr10_sw.fa.bzip2|22161976|6.00987421|\n",
    "|chr10_sw.fa.gzip|23702722|5.619214873|\n",
    "|chr10_sw.fa.xz|18187388|7.323244437|\n",
    "\n",
    "None of the alternative encodings ry / sw / mk compressed more then twice as much as chr10. I think this an issue with the encoding since these are ASCII files, every character is 8 bytes regardless. The higher compression ratios in non-standard encoding suggests a higher information density but this isn't complete.\n",
    "\n",
    "\n",
    "What I need to do is covert chr10.fa / chr10_xy.fa into true binary files where the ATCG is 2-bit encoded and SW/RY/MK is 1-bit encoded instead of ASCII bytes. Then compress these files respectively and compare compression ratios.\n"
   ]
  },
  {
   "cell_type": "markdown",
   "metadata": {},
   "source": [
    "## Recoding as binary\n",
    "\n",
    "To encode the genome files as a simple binary, further manipulate the .fa files to reduce them to simple binary.\n"
   ]
  },
  {
   "cell_type": "code",
   "execution_count": 29,
   "metadata": {
    "collapsed": false
   },
   "outputs": [
    {
     "name": "stdout",
     "output_type": "stream",
     "text": []
    }
   ],
   "source": [
    "# Two-bit encoding for ATCG encoding\n",
    "    sed 1d chr10.fa |\\\n",
    "    sed 's/a/10/g' - |\\\n",
    "    sed 's/t/00/g' - |\\\n",
    "    sed 's/g/11/g' - |\\\n",
    "    sed 's/c/01/g' - |\\\n",
    "    tr -d '[\\n]' | perl -lpe '$_=pack\"B*\",$_' > chr10.bit"
   ]
  },
  {
   "cell_type": "code",
   "execution_count": 30,
   "metadata": {
    "collapsed": false
   },
   "outputs": [
    {
     "name": "stdout",
     "output_type": "stream",
     "text": []
    }
   ],
   "source": [
    "# Binary encoding for Non-standard encodings\n",
    "# RY \n",
    "    sed 1d chr10_ry.fa |\\\n",
    "    sed 's/a/1/g' - |\\\n",
    "    sed 's/c/0/g' - |\\\n",
    "    tr -d '[\\n]' | perl -lpe '$_=pack\"B*\",$_' > chr10_ry.bit\n",
    "    \n",
    "# SW\n",
    "    sed 1d chr10_sw.fa |\\\n",
    "    sed 's/t/1/g' - |\\\n",
    "    sed 's/g/0/g' - |\\\n",
    "    tr -d '[\\n]' | perl -lpe '$_=pack\"B*\",$_' > chr10_sw.bit\n",
    "    \n",
    "# MK\n",
    "    sed 1d chr10_mk.fa |\\\n",
    "    sed 's/a/1/g' - |\\\n",
    "    sed 's/g/0/g' - |\\\n",
    "    tr -d '[\\n]' | perl -lpe '$_=pack\"B*\",$_' > chr10_mk.bit\n",
    "    \n",
    "# H \n",
    "    sed 1d chr10_h.fa |\\\n",
    "    sed 's/g/1/g' - |\\\n",
    "    sed 's/c/0/g' - |\\\n",
    "    tr -d '[\\n]' | perl -lpe '$_=pack\"B*\",$_' > chr10_h.bit"
   ]
  },
  {
   "cell_type": "code",
   "execution_count": 31,
   "metadata": {
    "code_folding": [],
    "collapsed": false
   },
   "outputs": [
    {
     "name": "stdout",
     "output_type": "stream",
     "text": [
      "total 1357048\r\n",
      "-rw-rw-r-- 1 artem artem  32828686 Jan  3 17:20 chr10.bit\r\n",
      "-rw-rw-r-- 1 artem artem  31232508 Jan  3 17:27 chr10.bit.bzip2\r\n",
      "-rw-rw-r-- 1 artem artem  31302823 Jan  3 17:27 chr10.bit.gzip\r\n",
      "-rw-rw-r-- 1 artem artem  29373000 Jan  3 17:27 chr10.bit.xz\r\n",
      "-rw-rw-r-- 1 artem artem 133190688 Jan  3 13:58 chr10.fa\r\n",
      "-rw-rw-r-- 1 artem artem  36475036 Jan  3 14:02 chr10.fa.bzip2\r\n",
      "-rw-rw-r-- 1 artem artem  39559214 Jan  3 14:03 chr10.fa.gzip\r\n",
      "-rw-rw-r-- 1 artem artem  32561152 Jan  3 14:02 chr10.fa.xz\r\n",
      "-rw-rw-r-- 1 artem artem  16414344 Jan  3 17:26 chr10_h.bit\r\n",
      "-rw-rw-r-- 1 artem artem  13275813 Jan  3 17:27 chr10_h.bit.bzip2\r\n",
      "-rw-rw-r-- 1 artem artem  12684403 Jan  3 17:27 chr10_h.bit.gzip\r\n",
      "-rw-rw-r-- 1 artem artem  11511956 Jan  3 17:27 chr10_h.bit.xz\r\n",
      "-rw-rw-r-- 1 artem artem 133190688 Jan  3 13:58 chr10_h.fa\r\n",
      "-rw-rw-r-- 1 artem artem  16617129 Jan  3 14:08 chr10_h.fa.bzip2\r\n",
      "-rw-rw-r-- 1 artem artem  20231126 Jan  3 14:09 chr10_h.fa.gzip\r\n",
      "-rw-rw-r-- 1 artem artem  14816516 Jan  3 14:08 chr10_h.fa.xz\r\n",
      "-rw-rw-r-- 1 artem artem  16414344 Jan  3 17:25 chr10_mk.bit\r\n",
      "-rw-rw-r-- 1 artem artem  16318994 Jan  3 17:28 chr10_mk.bit.bzip2\r\n",
      "-rw-rw-r-- 1 artem artem  16314822 Jan  3 17:28 chr10_mk.bit.gzip\r\n",
      "-rw-rw-r-- 1 artem artem  15886272 Jan  3 17:28 chr10_mk.bit.xz\r\n",
      "-rw-rw-r-- 1 artem artem 133190688 Jan  3 13:58 chr10_mk.fa\r\n",
      "-rw-rw-r-- 1 artem artem  22982657 Jan  3 14:15 chr10_mk.fa.bzip2\r\n",
      "-rw-rw-r-- 1 artem artem  24013369 Jan  3 14:15 chr10_mk.fa.gzip\r\n",
      "-rw-rw-r-- 1 artem artem  18682512 Jan  3 14:15 chr10_mk.fa.xz\r\n",
      "-rw-rw-r-- 1 artem artem  16414344 Jan  3 17:24 chr10_ry.bit\r\n",
      "-rw-rw-r-- 1 artem artem  15639416 Jan  3 17:28 chr10_ry.bit.bzip2\r\n",
      "-rw-rw-r-- 1 artem artem  15753561 Jan  3 17:28 chr10_ry.bit.gzip\r\n",
      "-rw-rw-r-- 1 artem artem  14805456 Jan  3 17:28 chr10_ry.bit.xz\r\n",
      "-rw-rw-r-- 1 artem artem 133190688 Jan  3 13:58 chr10_ry.fa\r\n",
      "-rw-rw-r-- 1 artem artem  22080751 Jan  3 14:22 chr10_ry.fa.bzip2\r\n",
      "-rw-rw-r-- 1 artem artem  23786189 Jan  3 14:22 chr10_ry.fa.gzip\r\n",
      "-rw-rw-r-- 1 artem artem  17769008 Jan  3 14:21 chr10_ry.fa.xz\r\n",
      "-rw-rw-r-- 1 artem artem  16414344 Jan  3 17:25 chr10_sw.bit\r\n",
      "-rw-rw-r-- 1 artem artem  16086943 Jan  3 17:28 chr10_sw.bit.bzip2\r\n",
      "-rw-rw-r-- 1 artem artem  15886961 Jan  3 17:28 chr10_sw.bit.gzip\r\n",
      "-rw-rw-r-- 1 artem artem  15368488 Jan  3 17:28 chr10_sw.bit.xz\r\n",
      "-rw-rw-r-- 1 artem artem 133190688 Jan  3 13:58 chr10_sw.fa\r\n",
      "-rw-rw-r-- 1 artem artem  22161976 Jan  3 14:29 chr10_sw.fa.bzip2\r\n",
      "-rw-rw-r-- 1 artem artem  23702722 Jan  3 14:29 chr10_sw.fa.gzip\r\n",
      "-rw-rw-r-- 1 artem artem  18187388 Jan  3 14:29 chr10_sw.fa.xz\r\n"
     ]
    }
   ],
   "source": [
    "CHRBIT=$(ls *.bit)\n",
    "\n",
    "# bzip2 & gzip & xz\n",
    "\n",
    "for FA in $CHRBIT\n",
    "do\n",
    "    7z a $FA.7z $FA\n",
    "    xz -c $FA > $FA.xz\n",
    "    bzip2 -dzc $FA > $FA.bzip2\n",
    "    gzip -c $FA > $FA.gzip\n",
    "done\n",
    "\n",
    "ls -l"
   ]
  },
  {
   "cell_type": "code",
   "execution_count": 2,
   "metadata": {
    "collapsed": false
   },
   "outputs": [
    {
     "name": "stdout",
     "output_type": "stream",
     "text": [
      "\r\n",
      "7-Zip [64] 9.20  Copyright (c) 1999-2010 Igor Pavlov  2010-11-18\r\n",
      "p7zip Version 9.20 (locale=en_CA.UTF-8,Utf16=on,HugeFiles=on,4 CPUs)\r\n",
      "\r\n",
      "Scanning\r\n",
      "\r\n",
      "Updating archive chr10.bit.7z\r\n",
      "\r\n",
      "Compressing  chr10.bit      \b\b\b\b\b\b    0%\b\b\b\b\b\b    0%\b\b\b\b\b\b    0%\b\b\b\b\b\b    0%\b\b\b\b\b\b    0%\b\b\b\b\b\b    0%\b\b\b\b\b\b    1%\b\b\b\b\b\b    1%\b\b\b\b\b\b    1%\b\b\b\b\b\b    1%\b\b\b\b\b\b    1%\b\b\b\b\b\b    2%\b\b\b\b\b\b    2%\b\b\b\b\b\b    2%\b\b\b\b\b\b    2%\b\b\b\b\b\b    2%\b\b\b\b\b\b    3%\b\b\b\b\b\b    3%\b\b\b\b\b\b    3%\b\b\b\b\b\b    3%\b\b\b\b\b\b    3%\b\b\b\b\b\b    4%\b\b\b\b\b\b    4%\b\b\b\b\b\b    4%\b\b\b\b\b\b    4%\b\b\b\b\b\b    4%\b\b\b\b\b\b    5%\b\b\b\b\b\b    5%\b\b\b\b\b\b    5%\b\b\b\b\b\b    5%\b\b\b\b\b\b    5%\b\b\b\b\b\b    6%\b\b\b\b\b\b    6%\b\b\b\b\b\b    6%\b\b\b\b\b\b    6%\b\b\b\b\b\b    6%\b\b\b\b\b\b    7%\b\b\b\b\b\b    7%\b\b\b\b\b\b    7%\b\b\b\b\b\b    7%\b\b\b\b\b\b    7%\b\b\b\b\b\b    8%\b\b\b\b\b\b    8%\b\b\b\b\b\b    8%\b\b\b\b\b\b    8%\b\b\b\b\b\b    8%\b\b\b\b\b\b    9%\b\b\b\b\b\b    9%\b\b\b\b\b\b    9%\b\b\b\b\b\b    9%\b\b\b\b\b\b    9%\b\b\b\b\b\b   10%\b\b\b\b\b\b   10%\b\b\b\b\b\b   10%\b\b\b\b\b\b   10%\b\b\b\b\b\b   10%\b\b\b\b\b\b   11%\b\b\b\b\b\b   11%\b\b\b\b\b\b   11%\b\b\b\b\b\b   11%\b\b\b\b\b\b   11%\b\b\b\b\b\b   12%\b\b\b\b\b\b   12%\b\b\b\b\b\b   12%\b\b\b\b\b\b   12%\b\b\b\b\b\b   12%\b\b\b\b\b\b   13%\b\b\b\b\b\b   13%\b\b\b\b\b\b   13%\b\b\b\b\b\b   13%\b\b\b\b\b\b   13%\b\b\b\b\b\b   14%\b\b\b\b\b\b   14%\b\b\b\b\b\b   14%\b\b\b\b\b\b   14%\b\b\b\b\b\b   14%\b\b\b\b\b\b   15%\b\b\b\b\b\b   15%\b\b\b\b\b\b   15%\b\b\b\b\b\b   15%\b\b\b\b\b\b   15%\b\b\b\b\b\b   16%\b\b\b\b\b\b   16%\b\b\b\b\b\b   16%\b\b\b\b\b\b   16%\b\b\b\b\b\b   16%\b\b\b\b\b\b   17%\b\b\b\b\b\b   17%\b\b\b\b\b\b   17%\b\b\b\b\b\b   17%\b\b\b\b\b\b   17%\b\b\b\b\b\b   18%\b\b\b\b\b\b   18%\b\b\b\b\b\b   18%\b\b\b\b\b\b   18%\b\b\b\b\b\b   18%\b\b\b\b\b\b   19%\b\b\b\b\b\b   19%\b\b\b\b\b\b   19%\b\b\b\b\b\b   19%\b\b\b\b\b\b   19%\b\b\b\b\b\b   20%\b\b\b\b\b\b   20%\b\b\b\b\b\b   20%\b\b\b\b\b\b   20%\b\b\b\b\b\b   20%\b\b\b\b\b\b   21%\b\b\b\b\b\b   21%\b\b\b\b\b\b   21%\b\b\b\b\b\b   21%\b\b\b\b\b\b   21%\b\b\b\b\b\b   22%\b\b\b\b\b\b   22%\b\b\b\b\b\b   22%\b\b\b\b\b\b   22%\b\b\b\b\b\b   22%\b\b\b\b\b\b   23%\b\b\b\b\b\b   23%\b\b\b\b\b\b   23%\b\b\b\b\b\b   23%\b\b\b\b\b\b   23%\b\b\b\b\b\b   24%\b\b\b\b\b\b   24%\b\b\b\b\b\b   24%\b\b\b\b\b\b   24%\b\b\b\b\b\b   24%\b\b\b\b\b\b   25%\b\b\b\b\b\b   25%\b\b\b\b\b\b   25%\b\b\b\b\b\b   25%\b\b\b\b\b\b   25%\b\b\b\b\b\b   26%\b\b\b\b\b\b   26%\b\b\b\b\b\b   26%\b\b\b\b\b\b   26%\b\b\b\b\b\b   26%\b\b\b\b\b\b   27%\b\b\b\b\b\b   27%\b\b\b\b\b\b   27%\b\b\b\b\b\b   27%\b\b\b\b\b\b   27%\b\b\b\b\b\b   28%\b\b\b\b\b\b   28%\b\b\b\b\b\b   28%\b\b\b\b\b\b   28%\b\b\b\b\b\b   28%\b\b\b\b\b\b   29%\b\b\b\b\b\b   29%\b\b\b\b\b\b   29%\b\b\b\b\b\b   29%\b\b\b\b\b\b   29%\b\b\b\b\b\b   30%\b\b\b\b\b\b   30%\b\b\b\b\b\b   30%\b\b\b\b\b\b   30%\b\b\b\b\b\b   30%\b\b\b\b\b\b   31%\b\b\b\b\b\b   31%\b\b\b\b\b\b   31%\b\b\b\b\b\b   31%\b\b\b\b\b\b   31%\b\b\b\b\b\b   32%\b\b\b\b\b\b   32%\b\b\b\b\b\b   32%\b\b\b\b\b\b   32%\b\b\b\b\b\b   32%\b\b\b\b\b\b   33%\b\b\b\b\b\b   33%\b\b\b\b\b\b   33%\b\b\b\b\b\b   33%\b\b\b\b\b\b   33%\b\b\b\b\b\b   34%\b\b\b\b\b\b   34%\b\b\b\b\b\b   34%\b\b\b\b\b\b   34%\b\b\b\b\b\b   34%\b\b\b\b\b\b   35%\b\b\b\b\b\b   35%\b\b\b\b\b\b   35%\b\b\b\b\b\b   35%\b\b\b\b\b\b   35%\b\b\b\b\b\b   36%\b\b\b\b\b\b   36%\b\b\b\b\b\b   36%\b\b\b\b\b\b   36%\b\b\b\b\b\b   36%\b\b\b\b\b\b   37%\b\b\b\b\b\b   37%\b\b\b\b\b\b   37%\b\b\b\b\b\b   37%\b\b\b\b\b\b   37%\b\b\b\b\b\b   38%\b\b\b\b\b\b   38%\b\b\b\b\b\b   38%\b\b\b\b\b\b   38%\b\b\b\b\b\b   38%\b\b\b\b\b\b   39%\b\b\b\b\b\b   39%\b\b\b\b\b\b   39%\b\b\b\b\b\b   39%\b\b\b\b\b\b   39%\b\b\b\b\b\b   40%\b\b\b\b\b\b   40%\b\b\b\b\b\b   40%\b\b\b\b\b\b   40%\b\b\b\b\b\b   40%\b\b\b\b\b\b   41%\b\b\b\b\b\b   41%\b\b\b\b\b\b   41%\b\b\b\b\b\b   41%\b\b\b\b\b\b   41%\b\b\b\b\b\b   42%\b\b\b\b\b\b   42%\b\b\b\b\b\b   42%\b\b\b\b\b\b   42%\b\b\b\b\b\b   42%\b\b\b\b\b\b   43%\b\b\b\b\b\b   43%\b\b\b\b\b\b   43%\b\b\b\b\b\b   43%\b\b\b\b\b\b   43%\b\b\b\b\b\b   44%\b\b\b\b\b\b   44%\b\b\b\b\b\b   44%\b\b\b\b\b\b   44%\b\b\b\b\b\b   44%\b\b\b\b\b\b   45%\b\b\b\b\b\b   45%\b\b\b\b\b\b   45%\b\b\b\b\b\b   45%\b\b\b\b\b\b   45%\b\b\b\b\b\b   46%\b\b\b\b\b\b   46%\b\b\b\b\b\b   46%\b\b\b\b\b\b   46%\b\b\b\b\b\b   46%\b\b\b\b\b\b   47%\b\b\b\b\b\b   47%\b\b\b\b\b\b   47%\b\b\b\b\b\b   47%\b\b\b\b\b\b   47%\b\b\b\b\b\b   48%\b\b\b\b\b\b   48%\b\b\b\b\b\b   48%\b\b\b\b\b\b   48%\b\b\b\b\b\b   48%\b\b\b\b\b\b   49%\b\b\b\b\b\b   49%\b\b\b\b\b\b   49%\b\b\b\b\b\b   49%\b\b\b\b\b\b   49%\b\b\b\b\b\b   50%\b\b\b\b\b\b   50%\b\b\b\b\b\b   50%\b\b\b\b\b\b   50%\b\b\b\b\b\b   50%\b\b\b\b\b\b   51%\b\b\b\b\b\b   51%\b\b\b\b\b\b   51%\b\b\b\b\b\b   51%\b\b\b\b\b\b   51%\b\b\b\b\b\b   52%\b\b\b\b\b\b   52%\b\b\b\b\b\b   52%\b\b\b\b\b\b   52%\b\b\b\b\b\b   52%\b\b\b\b\b\b   53%\b\b\b\b\b\b   53%\b\b\b\b\b\b   53%\b\b\b\b\b\b   53%\b\b\b\b\b\b   53%\b\b\b\b\b\b   54%\b\b\b\b\b\b   54%\b\b\b\b\b\b   54%\b\b\b\b\b\b   54%\b\b\b\b\b\b   54%\b\b\b\b\b\b   55%\b\b\b\b\b\b   55%\b\b\b\b\b\b   55%\b\b\b\b\b\b   55%\b\b\b\b\b\b   55%\b\b\b\b\b\b   56%\b\b\b\b\b\b   56%\b\b\b\b\b\b   56%\b\b\b\b\b\b   56%\b\b\b\b\b\b   56%\b\b\b\b\b\b   57%\b\b\b\b\b\b   57%\b\b\b\b\b\b   57%\b\b\b\b\b\b   57%\b\b\b\b\b\b   57%\b\b\b\b\b\b   58%\b\b\b\b\b\b   58%\b\b\b\b\b\b   58%\b\b\b\b\b\b   58%\b\b\b\b\b\b   58%\b\b\b\b\b\b   59%\b\b\b\b\b\b   59%\b\b\b\b\b\b   59%\b\b\b\b\b\b   59%\b\b\b\b\b\b   59%\b\b\b\b\b\b   60%\b\b\b\b\b\b   60%\b\b\b\b\b\b   60%\b\b\b\b\b\b   60%\b\b\b\b\b\b   60%\b\b\b\b\b\b   61%\b\b\b\b\b\b   61%\b\b\b\b\b\b   61%\b\b\b\b\b\b   61%\b\b\b\b\b\b   61%\b\b\b\b\b\b   62%\b\b\b\b\b\b   62%\b\b\b\b\b\b   62%\b\b\b\b\b\b   62%\b\b\b\b\b\b   62%\b\b\b\b\b\b   63%\b\b\b\b\b\b   63%\b\b\b\b\b\b   63%\b\b\b\b\b\b   63%\b\b\b\b\b\b   63%\b\b\b\b\b\b   64%\b\b\b\b\b\b   64%\b\b\b\b\b\b   64%\b\b\b\b\b\b   64%\b\b\b\b\b\b   64%\b\b\b\b\b\b   65%\b\b\b\b\b\b   65%\b\b\b\b\b\b   65%\b\b\b\b\b\b   65%\b\b\b\b\b\b   65%\b\b\b\b\b\b   66%\b\b\b\b\b\b   66%\b\b\b\b\b\b   66%\b\b\b\b\b\b   66%\b\b\b\b\b\b   66%\b\b\b\b\b\b   67%\b\b\b\b\b\b   67%\b\b\b\b\b\b   67%\b\b\b\b\b\b   67%\b\b\b\b\b\b   67%\b\b\b\b\b\b   68%\b\b\b\b\b\b   68%\b\b\b\b\b\b   68%\b\b\b\b\b\b   68%\b\b\b\b\b\b   68%\b\b\b\b\b\b   69%\b\b\b\b\b\b   69%\b\b\b\b\b\b   69%\b\b\b\b\b\b   69%\b\b\b\b\b\b   69%\b\b\b\b\b\b   70%\b\b\b\b\b\b   70%\b\b\b\b\b\b   70%\b\b\b\b\b\b   70%\b\b\b\b\b\b   70%\b\b\b\b\b\b   71%\b\b\b\b\b\b   71%\b\b\b\b\b\b   71%\b\b\b\b\b\b   71%\b\b\b\b\b\b   71%\b\b\b\b\b\b   72%\b\b\b\b\b\b   72%\b\b\b\b\b\b   72%\b\b\b\b\b\b   72%\b\b\b\b\b\b   72%\b\b\b\b\b\b   73%\b\b\b\b\b\b   73%\b\b\b\b\b\b   73%\b\b\b\b\b\b   73%\b\b\b\b\b\b   73%\b\b\b\b\b\b   74%\b\b\b\b\b\b   74%\b\b\b\b\b\b   74%\b\b\b\b\b\b   74%\b\b\b\b\b\b   74%\b\b\b\b\b\b   75%\b\b\b\b\b\b   75%\b\b\b\b\b\b   75%\b\b\b\b\b\b   75%\b\b\b\b\b\b   75%\b\b\b\b\b\b   76%\b\b\b\b\b\b   76%\b\b\b\b\b\b   76%\b\b\b\b\b\b   76%\b\b\b\b\b\b   76%\b\b\b\b\b\b   77%\b\b\b\b\b\b   77%\b\b\b\b\b\b   77%\b\b\b\b\b\b   77%\b\b\b\b\b\b   77%\b\b\b\b\b\b   78%\b\b\b\b\b\b   78%\b\b\b\b\b\b   78%\b\b\b\b\b\b   78%\b\b\b\b\b\b   78%\b\b\b\b\b\b   79%\b\b\b\b\b\b   79%\b\b\b\b\b\b   79%\b\b\b\b\b\b   79%\b\b\b\b\b\b   79%\b\b\b\b\b\b   80%\b\b\b\b\b\b   80%\b\b\b\b\b\b   80%\b\b\b\b\b\b   80%\b\b\b\b\b\b   80%\b\b\b\b\b\b   81%\b\b\b\b\b\b   81%\b\b\b\b\b\b   81%\b\b\b\b\b\b   81%\b\b\b\b\b\b   81%\b\b\b\b\b\b   82%\b\b\b\b\b\b   82%\b\b\b\b\b\b   82%\b\b\b\b\b\b   82%\b\b\b\b\b\b   82%\b\b\b\b\b\b   83%\b\b\b\b\b\b   83%\b\b\b\b\b\b   83%\b\b\b\b\b\b   83%\b\b\b\b\b\b   83%\b\b\b\b\b\b   84%\b\b\b\b\b\b   84%\b\b\b\b\b\b   84%\b\b\b\b\b\b   84%\b\b\b\b\b\b   84%\b\b\b\b\b\b   85%\b\b\b\b\b\b   85%\b\b\b\b\b\b   85%\b\b\b\b\b\b   85%\b\b\b\b\b\b   85%\b\b\b\b\b\b   86%\b\b\b\b\b\b   86%\b\b\b\b\b\b   86%\b\b\b\b\b\b   86%\b\b\b\b\b\b   86%\b\b\b\b\b\b   87%\b\b\b\b\b\b   87%\b\b\b\b\b\b   87%\b\b\b\b\b\b   87%\b\b\b\b\b\b   87%\b\b\b\b\b\b   88%\b\b\b\b\b\b   88%\b\b\b\b\b\b   88%\b\b\b\b\b\b   88%\b\b\b\b\b\b   88%\b\b\b\b\b\b   89%\b\b\b\b\b\b   89%\b\b\b\b\b\b   89%\b\b\b\b\b\b   89%\b\b\b\b\b\b   89%\b\b\b\b\b\b   90%\b\b\b\b\b\b   90%\b\b\b\b\b\b   90%\b\b\b\b\b\b   90%\b\b\b\b\b\b   90%\b\b\b\b\b\b   91%\b\b\b\b\b\b   91%\b\b\b\b\b\b   91%\b\b\b\b\b\b   91%\b\b\b\b\b\b   91%\b\b\b\b\b\b   92%\b\b\b\b\b\b   92%\b\b\b\b\b\b   92%\b\b\b\b\b\b   92%\b\b\b\b\b\b   92%\b\b\b\b\b\b   93%\b\b\b\b\b\b   93%\b\b\b\b\b\b   93%\b\b\b\b\b\b   93%\b\b\b\b\b\b   93%\b\b\b\b\b\b   94%\b\b\b\b\b\b   94%\b\b\b\b\b\b   94%\b\b\b\b\b\b   94%\b\b\b\b\b\b   94%\b\b\b\b\b\b   95%\b\b\b\b\b\b   95%\b\b\b\b\b\b   95%\b\b\b\b\b\b   95%\b\b\b\b\b\b   95%\b\b\b\b\b\b   96%\b\b\b\b\b\b   96%\b\b\b\b\b\b   96%\b\b\b\b\b\b   96%\b\b\b\b\b\b   96%\b\b\b\b\b\b   97%\b\b\b\b\b\b   97%\b\b\b\b\b\b   97%\b\b\b\b\b\b   97%\b\b\b\b\b\b   97%\b\b\b\b\b\b   98%\b\b\b\b\b\b   98%\b\b\b\b\b\b   98%\b\b\b\b\b\b   98%\b\b\b\b\b\b   98%\b\b\b\b\b\b   99%\b\b\b\b\b\b   99%\b\b\b\b\b\b   99%\b\b\b\b\b\b   99%\b\b\b\b\b\b   99%\b\b\b\b\b\b      \b\b\b\b\b\b\r\n",
      "\r\n",
      "Everything is Ok\r\n",
      "\r\n",
      "7-Zip [64] 9.20  Copyright (c) 1999-2010 Igor Pavlov  2010-11-18\r\n",
      "p7zip Version 9.20 (locale=en_CA.UTF-8,Utf16=on,HugeFiles=on,4 CPUs)\r\n",
      "Scanning\r\n",
      "\r\n",
      "Creating archive chr10_h.bit.7z\r\n",
      "\r\n",
      "Compressing  chr10_h.bit      \b\b\b\b\b\b    0%\b\b\b\b\b\b    0%\b\b\b\b\b\b    0%\b\b\b\b\b\b    1%\b\b\b\b\b\b    1%\b\b\b\b\b\b    1%\b\b\b\b\b\b    2%\b\b\b\b\b\b    2%\b\b\b\b\b\b    3%\b\b\b\b\b\b    3%\b\b\b\b\b\b    3%\b\b\b\b\b\b    4%\b\b\b\b\b\b    4%\b\b\b\b\b\b    5%\b\b\b\b\b\b    5%\b\b\b\b\b\b    5%\b\b\b\b\b\b    6%\b\b\b\b\b\b    6%\b\b\b\b\b\b    7%\b\b\b\b\b\b    7%\b\b\b\b\b\b    7%\b\b\b\b\b\b    8%\b\b\b\b\b\b    8%\b\b\b\b\b\b    9%\b\b\b\b\b\b    9%\b\b\b\b\b\b    9%\b\b\b\b\b\b   10%\b\b\b\b\b\b   10%\b\b\b\b\b\b   11%\b\b\b\b\b\b   11%\b\b\b\b\b\b   11%\b\b\b\b\b\b   12%\b\b\b\b\b\b   12%\b\b\b\b\b\b   13%\b\b\b\b\b\b   13%\b\b\b\b\b\b   13%\b\b\b\b\b\b   14%\b\b\b\b\b\b   14%\b\b\b\b\b\b   15%\b\b\b\b\b\b   15%\b\b\b\b\b\b   15%\b\b\b\b\b\b   16%\b\b\b\b\b\b   16%\b\b\b\b\b\b   17%\b\b\b\b\b\b   17%\b\b\b\b\b\b   17%\b\b\b\b\b\b   18%\b\b\b\b\b\b   18%\b\b\b\b\b\b   19%\b\b\b\b\b\b   19%\b\b\b\b\b\b   19%\b\b\b\b\b\b   20%\b\b\b\b\b\b   20%\b\b\b\b\b\b   21%\b\b\b\b\b\b   21%\b\b\b\b\b\b   21%\b\b\b\b\b\b   22%\b\b\b\b\b\b   22%\b\b\b\b\b\b   23%\b\b\b\b\b\b   23%\b\b\b\b\b\b   23%\b\b\b\b\b\b   24%\b\b\b\b\b\b   24%\b\b\b\b\b\b   25%\b\b\b\b\b\b   25%\b\b\b\b\b\b   25%\b\b\b\b\b\b   26%\b\b\b\b\b\b   26%\b\b\b\b\b\b   27%\b\b\b\b\b\b   27%\b\b\b\b\b\b   27%\b\b\b\b\b\b   28%\b\b\b\b\b\b   28%\b\b\b\b\b\b   29%\b\b\b\b\b\b   29%\b\b\b\b\b\b   29%\b\b\b\b\b\b   30%\b\b\b\b\b\b   30%\b\b\b\b\b\b   31%\b\b\b\b\b\b   31%\b\b\b\b\b\b   31%\b\b\b\b\b\b   32%\b\b\b\b\b\b   32%\b\b\b\b\b\b   33%\b\b\b\b\b\b   33%\b\b\b\b\b\b   33%\b\b\b\b\b\b   34%\b\b\b\b\b\b   34%\b\b\b\b\b\b   35%\b\b\b\b\b\b   35%\b\b\b\b\b\b   35%\b\b\b\b\b\b   36%\b\b\b\b\b\b   36%\b\b\b\b\b\b   37%\b\b\b\b\b\b   37%\b\b\b\b\b\b   37%\b\b\b\b\b\b   38%\b\b\b\b\b\b   38%\b\b\b\b\b\b   39%\b\b\b\b\b\b   39%\b\b\b\b\b\b   39%\b\b\b\b\b\b   40%\b\b\b\b\b\b   40%\b\b\b\b\b\b   41%\b\b\b\b\b\b   41%\b\b\b\b\b\b   41%\b\b\b\b\b\b   42%\b\b\b\b\b\b   42%\b\b\b\b\b\b   43%\b\b\b\b\b\b   43%\b\b\b\b\b\b   43%\b\b\b\b\b\b   44%\b\b\b\b\b\b   44%\b\b\b\b\b\b   45%\b\b\b\b\b\b   45%\b\b\b\b\b\b   45%\b\b\b\b\b\b   46%\b\b\b\b\b\b   46%\b\b\b\b\b\b   47%\b\b\b\b\b\b   47%\b\b\b\b\b\b   47%\b\b\b\b\b\b   48%\b\b\b\b\b\b   48%\b\b\b\b\b\b   49%\b\b\b\b\b\b   49%\b\b\b\b\b\b   49%\b\b\b\b\b\b   50%\b\b\b\b\b\b   50%\b\b\b\b\b\b   51%\b\b\b\b\b\b   51%\b\b\b\b\b\b   51%\b\b\b\b\b\b   52%\b\b\b\b\b\b   52%\b\b\b\b\b\b   53%\b\b\b\b\b\b   53%\b\b\b\b\b\b   53%\b\b\b\b\b\b   54%\b\b\b\b\b\b   54%\b\b\b\b\b\b   55%\b\b\b\b\b\b   55%\b\b\b\b\b\b   55%\b\b\b\b\b\b   56%\b\b\b\b\b\b   56%\b\b\b\b\b\b   57%\b\b\b\b\b\b   57%\b\b\b\b\b\b   57%\b\b\b\b\b\b   58%\b\b\b\b\b\b   58%\b\b\b\b\b\b   59%\b\b\b\b\b\b   59%\b\b\b\b\b\b   59%\b\b\b\b\b\b   60%\b\b\b\b\b\b   60%\b\b\b\b\b\b   61%\b\b\b\b\b\b   61%\b\b\b\b\b\b   61%\b\b\b\b\b\b   62%\b\b\b\b\b\b   62%\b\b\b\b\b\b   63%\b\b\b\b\b\b   63%\b\b\b\b\b\b   63%\b\b\b\b\b\b   64%\b\b\b\b\b\b   64%\b\b\b\b\b\b   65%\b\b\b\b\b\b   65%\b\b\b\b\b\b   65%\b\b\b\b\b\b   66%\b\b\b\b\b\b   66%\b\b\b\b\b\b   67%\b\b\b\b\b\b   67%\b\b\b\b\b\b   67%\b\b\b\b\b\b   68%\b\b\b\b\b\b   68%\b\b\b\b\b\b   69%\b\b\b\b\b\b   69%\b\b\b\b\b\b   69%\b\b\b\b\b\b   70%\b\b\b\b\b\b   70%\b\b\b\b\b\b   71%\b\b\b\b\b\b   71%\b\b\b\b\b\b   71%\b\b\b\b\b\b   72%\b\b\b\b\b\b   72%\b\b\b\b\b\b   73%\b\b\b\b\b\b   73%\b\b\b\b\b\b   73%\b\b\b\b\b\b   74%\b\b\b\b\b\b   74%\b\b\b\b\b\b   75%\b\b\b\b\b\b   75%\b\b\b\b\b\b   75%\b\b\b\b\b\b   76%\b\b\b\b\b\b   76%\b\b\b\b\b\b   77%\b\b\b\b\b\b   77%\b\b\b\b\b\b   77%\b\b\b\b\b\b   78%\b\b\b\b\b\b   78%\b\b\b\b\b\b   79%\b\b\b\b\b\b   79%\b\b\b\b\b\b   79%\b\b\b\b\b\b   80%\b\b\b\b\b\b   80%\b\b\b\b\b\b   81%\b\b\b\b\b\b   81%\b\b\b\b\b\b   81%\b\b\b\b\b\b   82%\b\b\b\b\b\b   82%\b\b\b\b\b\b   83%\b\b\b\b\b\b   83%\b\b\b\b\b\b   83%\b\b\b\b\b\b   84%\b\b\b\b\b\b   84%\b\b\b\b\b\b   85%\b\b\b\b\b\b   85%\b\b\b\b\b\b   85%\b\b\b\b\b\b   86%\b\b\b\b\b\b   86%\b\b\b\b\b\b   87%\b\b\b\b\b\b   87%\b\b\b\b\b\b   87%\b\b\b\b\b\b   88%\b\b\b\b\b\b   88%\b\b\b\b\b\b   89%\b\b\b\b\b\b   89%\b\b\b\b\b\b   89%\b\b\b\b\b\b   90%\b\b\b\b\b\b   90%\b\b\b\b\b\b   91%\b\b\b\b\b\b   91%\b\b\b\b\b\b   91%\b\b\b\b\b\b   92%\b\b\b\b\b\b   92%\b\b\b\b\b\b   93%\b\b\b\b\b\b   93%\b\b\b\b\b\b   93%\b\b\b\b\b\b   94%\b\b\b\b\b\b   94%\b\b\b\b\b\b   95%\b\b\b\b\b\b   95%\b\b\b\b\b\b   95%\b\b\b\b\b\b   96%\b\b\b\b\b\b   96%\b\b\b\b\b\b   97%\b\b\b\b\b\b   97%\b\b\b\b\b\b   97%\b\b\b\b\b\b   98%\b\b\b\b\b\b   98%\b\b\b\b\b\b   99%\b\b\b\b\b\b   99%\b\b\b\b\b\b   99%\b\b\b\b\b\b      \b\b\b\b\b\b\r\n",
      "\r\n",
      "Everything is Ok\r\n",
      "\r\n",
      "7-Zip [64] 9.20  Copyright (c) 1999-2010 Igor Pavlov  2010-11-18\r\n",
      "p7zip Version 9.20 (locale=en_CA.UTF-8,Utf16=on,HugeFiles=on,4 CPUs)\r\n",
      "Scanning\r\n",
      "\r\n",
      "Creating archive chr10_mk.bit.7z\r\n",
      "\r\n",
      "Compressing  chr10_mk.bit      \b\b\b\b\b\b    0%\b\b\b\b\b\b    0%\b\b\b\b\b\b    0%\b\b\b\b\b\b    1%\b\b\b\b\b\b    1%\b\b\b\b\b\b    1%\b\b\b\b\b\b    2%\b\b\b\b\b\b    2%\b\b\b\b\b\b    3%\b\b\b\b\b\b    3%\b\b\b\b\b\b    3%\b\b\b\b\b\b    4%\b\b\b\b\b\b    4%\b\b\b\b\b\b    5%\b\b\b\b\b\b    5%\b\b\b\b\b\b    5%\b\b\b\b\b\b    6%\b\b\b\b\b\b    6%\b\b\b\b\b\b    7%\b\b\b\b\b\b    7%\b\b\b\b\b\b    7%\b\b\b\b\b\b    8%\b\b\b\b\b\b    8%\b\b\b\b\b\b    9%\b\b\b\b\b\b    9%\b\b\b\b\b\b    9%\b\b\b\b\b\b   10%\b\b\b\b\b\b   10%\b\b\b\b\b\b   11%\b\b\b\b\b\b   11%\b\b\b\b\b\b   11%\b\b\b\b\b\b   12%\b\b\b\b\b\b   12%\b\b\b\b\b\b   13%\b\b\b\b\b\b   13%\b\b\b\b\b\b   13%\b\b\b\b\b\b   14%\b\b\b\b\b\b   14%\b\b\b\b\b\b   15%\b\b\b\b\b\b   15%\b\b\b\b\b\b   15%\b\b\b\b\b\b   16%\b\b\b\b\b\b   16%\b\b\b\b\b\b   17%\b\b\b\b\b\b   17%\b\b\b\b\b\b   17%\b\b\b\b\b\b   18%\b\b\b\b\b\b   18%\b\b\b\b\b\b   19%\b\b\b\b\b\b   19%\b\b\b\b\b\b   19%\b\b\b\b\b\b   20%\b\b\b\b\b\b   20%\b\b\b\b\b\b   21%\b\b\b\b\b\b   21%\b\b\b\b\b\b   21%\b\b\b\b\b\b   22%\b\b\b\b\b\b   22%\b\b\b\b\b\b   23%\b\b\b\b\b\b   23%\b\b\b\b\b\b   23%\b\b\b\b\b\b   24%\b\b\b\b\b\b   24%\b\b\b\b\b\b   25%\b\b\b\b\b\b   25%\b\b\b\b\b\b   25%\b\b\b\b\b\b   26%\b\b\b\b\b\b   26%\b\b\b\b\b\b   27%\b\b\b\b\b\b   27%\b\b\b\b\b\b   27%\b\b\b\b\b\b   28%\b\b\b\b\b\b   28%\b\b\b\b\b\b   29%\b\b\b\b\b\b   29%\b\b\b\b\b\b   29%\b\b\b\b\b\b   30%\b\b\b\b\b\b   30%\b\b\b\b\b\b   31%\b\b\b\b\b\b   31%\b\b\b\b\b\b   31%\b\b\b\b\b\b   32%\b\b\b\b\b\b   32%\b\b\b\b\b\b   33%\b\b\b\b\b\b   33%\b\b\b\b\b\b   33%\b\b\b\b\b\b   34%\b\b\b\b\b\b   34%\b\b\b\b\b\b   35%\b\b\b\b\b\b   35%\b\b\b\b\b\b   35%\b\b\b\b\b\b   36%\b\b\b\b\b\b   36%\b\b\b\b\b\b   37%\b\b\b\b\b\b   37%\b\b\b\b\b\b   37%\b\b\b\b\b\b   38%\b\b\b\b\b\b   38%\b\b\b\b\b\b   39%\b\b\b\b\b\b   39%\b\b\b\b\b\b   39%\b\b\b\b\b\b   40%\b\b\b\b\b\b   40%\b\b\b\b\b\b   41%\b\b\b\b\b\b   41%\b\b\b\b\b\b   41%\b\b\b\b\b\b   42%\b\b\b\b\b\b   42%\b\b\b\b\b\b   43%\b\b\b\b\b\b   43%\b\b\b\b\b\b   43%\b\b\b\b\b\b   44%\b\b\b\b\b\b   44%\b\b\b\b\b\b   45%\b\b\b\b\b\b   45%\b\b\b\b\b\b   45%\b\b\b\b\b\b   46%\b\b\b\b\b\b   46%\b\b\b\b\b\b   47%\b\b\b\b\b\b   47%\b\b\b\b\b\b   47%\b\b\b\b\b\b   48%\b\b\b\b\b\b   48%\b\b\b\b\b\b   49%\b\b\b\b\b\b   49%\b\b\b\b\b\b   49%\b\b\b\b\b\b   50%\b\b\b\b\b\b   50%\b\b\b\b\b\b   51%\b\b\b\b\b\b   51%\b\b\b\b\b\b   51%\b\b\b\b\b\b   52%\b\b\b\b\b\b   52%\b\b\b\b\b\b   53%\b\b\b\b\b\b   53%\b\b\b\b\b\b   53%\b\b\b\b\b\b   54%\b\b\b\b\b\b   54%\b\b\b\b\b\b   55%\b\b\b\b\b\b   55%\b\b\b\b\b\b   55%\b\b\b\b\b\b   56%\b\b\b\b\b\b   56%\b\b\b\b\b\b   57%\b\b\b\b\b\b   57%\b\b\b\b\b\b   57%\b\b\b\b\b\b   58%\b\b\b\b\b\b   58%\b\b\b\b\b\b   59%\b\b\b\b\b\b   59%\b\b\b\b\b\b   59%\b\b\b\b\b\b   60%\b\b\b\b\b\b   60%\b\b\b\b\b\b   61%\b\b\b\b\b\b   61%\b\b\b\b\b\b   61%\b\b\b\b\b\b   62%\b\b\b\b\b\b   62%\b\b\b\b\b\b   63%\b\b\b\b\b\b   63%\b\b\b\b\b\b   63%\b\b\b\b\b\b   64%\b\b\b\b\b\b   64%\b\b\b\b\b\b   65%\b\b\b\b\b\b   65%\b\b\b\b\b\b   65%\b\b\b\b\b\b   66%\b\b\b\b\b\b   66%\b\b\b\b\b\b   67%\b\b\b\b\b\b   67%\b\b\b\b\b\b   67%\b\b\b\b\b\b   68%\b\b\b\b\b\b   68%\b\b\b\b\b\b   69%\b\b\b\b\b\b   69%\b\b\b\b\b\b   69%\b\b\b\b\b\b   70%\b\b\b\b\b\b   70%\b\b\b\b\b\b   71%\b\b\b\b\b\b   71%\b\b\b\b\b\b   71%\b\b\b\b\b\b   72%\b\b\b\b\b\b   72%\b\b\b\b\b\b   73%\b\b\b\b\b\b   73%\b\b\b\b\b\b   73%\b\b\b\b\b\b   74%\b\b\b\b\b\b   74%\b\b\b\b\b\b   75%\b\b\b\b\b\b   75%\b\b\b\b\b\b   75%\b\b\b\b\b\b   76%\b\b\b\b\b\b   76%\b\b\b\b\b\b   77%\b\b\b\b\b\b   77%\b\b\b\b\b\b   77%\b\b\b\b\b\b   78%\b\b\b\b\b\b   78%\b\b\b\b\b\b   79%\b\b\b\b\b\b   79%\b\b\b\b\b\b   79%\b\b\b\b\b\b   80%\b\b\b\b\b\b   80%\b\b\b\b\b\b   81%\b\b\b\b\b\b   81%\b\b\b\b\b\b   81%\b\b\b\b\b\b   82%\b\b\b\b\b\b   82%\b\b\b\b\b\b   83%\b\b\b\b\b\b   83%\b\b\b\b\b\b   83%\b\b\b\b\b\b   84%\b\b\b\b\b\b   84%\b\b\b\b\b\b   85%\b\b\b\b\b\b   85%\b\b\b\b\b\b   85%\b\b\b\b\b\b   86%\b\b\b\b\b\b   86%\b\b\b\b\b\b   87%\b\b\b\b\b\b   87%\b\b\b\b\b\b   87%\b\b\b\b\b\b   88%\b\b\b\b\b\b   88%\b\b\b\b\b\b   89%\b\b\b\b\b\b   89%\b\b\b\b\b\b   89%\b\b\b\b\b\b   90%\b\b\b\b\b\b   90%\b\b\b\b\b\b   91%\b\b\b\b\b\b   91%\b\b\b\b\b\b   91%\b\b\b\b\b\b   92%\b\b\b\b\b\b   92%\b\b\b\b\b\b   93%\b\b\b\b\b\b   93%\b\b\b\b\b\b   93%\b\b\b\b\b\b   94%\b\b\b\b\b\b   94%\b\b\b\b\b\b   95%\b\b\b\b\b\b   95%\b\b\b\b\b\b   95%\b\b\b\b\b\b   96%\b\b\b\b\b\b   96%\b\b\b\b\b\b   97%\b\b\b\b\b\b   97%\b\b\b\b\b\b   97%\b\b\b\b\b\b   98%\b\b\b\b\b\b   98%\b\b\b\b\b\b   99%\b\b\b\b\b\b   99%\b\b\b\b\b\b   99%\b\b\b\b\b\b      \b\b\b\b\b\b\r\n",
      "\r\n",
      "Everything is Ok\r\n",
      "\r\n",
      "7-Zip [64] 9.20  Copyright (c) 1999-2010 Igor Pavlov  2010-11-18\r\n",
      "p7zip Version 9.20 (locale=en_CA.UTF-8,Utf16=on,HugeFiles=on,4 CPUs)\r\n",
      "Scanning\r\n",
      "\r\n",
      "Creating archive chr10_ry.bit.7z\r\n",
      "\r\n",
      "Compressing  chr10_ry.bit      \b\b\b\b\b\b    0%\b\b\b\b\b\b    0%\b\b\b\b\b\b    0%\b\b\b\b\b\b    1%\b\b\b\b\b\b    1%\b\b\b\b\b\b    1%\b\b\b\b\b\b    2%\b\b\b\b\b\b    2%\b\b\b\b\b\b    3%\b\b\b\b\b\b    3%\b\b\b\b\b\b    3%\b\b\b\b\b\b    4%\b\b\b\b\b\b    4%\b\b\b\b\b\b    5%\b\b\b\b\b\b    5%\b\b\b\b\b\b    5%\b\b\b\b\b\b    6%\b\b\b\b\b\b    6%\b\b\b\b\b\b    7%\b\b\b\b\b\b    7%\b\b\b\b\b\b    7%\b\b\b\b\b\b    8%\b\b\b\b\b\b    8%\b\b\b\b\b\b    9%\b\b\b\b\b\b    9%\b\b\b\b\b\b    9%\b\b\b\b\b\b   10%\b\b\b\b\b\b   10%\b\b\b\b\b\b   11%\b\b\b\b\b\b   11%\b\b\b\b\b\b   11%\b\b\b\b\b\b   12%\b\b\b\b\b\b   12%\b\b\b\b\b\b   13%\b\b\b\b\b\b   13%\b\b\b\b\b\b   13%\b\b\b\b\b\b   14%\b\b\b\b\b\b   14%\b\b\b\b\b\b   15%\b\b\b\b\b\b   15%\b\b\b\b\b\b   15%\b\b\b\b\b\b   16%\b\b\b\b\b\b   16%\b\b\b\b\b\b   17%\b\b\b\b\b\b   17%\b\b\b\b\b\b   17%\b\b\b\b\b\b   18%\b\b\b\b\b\b   18%\b\b\b\b\b\b   19%\b\b\b\b\b\b   19%\b\b\b\b\b\b   19%\b\b\b\b\b\b   20%\b\b\b\b\b\b   20%\b\b\b\b\b\b   21%\b\b\b\b\b\b   21%\b\b\b\b\b\b   21%\b\b\b\b\b\b   22%\b\b\b\b\b\b   22%\b\b\b\b\b\b   23%\b\b\b\b\b\b   23%\b\b\b\b\b\b   23%\b\b\b\b\b\b   24%\b\b\b\b\b\b   24%\b\b\b\b\b\b   25%\b\b\b\b\b\b   25%\b\b\b\b\b\b   25%\b\b\b\b\b\b   26%\b\b\b\b\b\b   26%\b\b\b\b\b\b   27%\b\b\b\b\b\b   27%\b\b\b\b\b\b   27%\b\b\b\b\b\b   28%\b\b\b\b\b\b   28%\b\b\b\b\b\b   29%\b\b\b\b\b\b   29%\b\b\b\b\b\b   29%\b\b\b\b\b\b   30%\b\b\b\b\b\b   30%\b\b\b\b\b\b   31%\b\b\b\b\b\b   31%\b\b\b\b\b\b   31%\b\b\b\b\b\b   32%\b\b\b\b\b\b   32%\b\b\b\b\b\b   33%\b\b\b\b\b\b   33%\b\b\b\b\b\b   33%\b\b\b\b\b\b   34%\b\b\b\b\b\b   34%\b\b\b\b\b\b   35%\b\b\b\b\b\b   35%\b\b\b\b\b\b   35%\b\b\b\b\b\b   36%\b\b\b\b\b\b   36%\b\b\b\b\b\b   37%\b\b\b\b\b\b   37%\b\b\b\b\b\b   37%\b\b\b\b\b\b   38%\b\b\b\b\b\b   38%\b\b\b\b\b\b   39%\b\b\b\b\b\b   39%\b\b\b\b\b\b   39%\b\b\b\b\b\b   40%\b\b\b\b\b\b   40%\b\b\b\b\b\b   41%\b\b\b\b\b\b   41%\b\b\b\b\b\b   41%\b\b\b\b\b\b   42%\b\b\b\b\b\b   42%\b\b\b\b\b\b   43%\b\b\b\b\b\b   43%\b\b\b\b\b\b   43%\b\b\b\b\b\b   44%\b\b\b\b\b\b   44%\b\b\b\b\b\b   45%\b\b\b\b\b\b   45%\b\b\b\b\b\b   45%\b\b\b\b\b\b   46%\b\b\b\b\b\b   46%\b\b\b\b\b\b   47%\b\b\b\b\b\b   47%\b\b\b\b\b\b   47%\b\b\b\b\b\b   48%\b\b\b\b\b\b   48%\b\b\b\b\b\b   49%\b\b\b\b\b\b   49%\b\b\b\b\b\b   49%\b\b\b\b\b\b   50%\b\b\b\b\b\b   50%\b\b\b\b\b\b   51%\b\b\b\b\b\b   51%\b\b\b\b\b\b   51%\b\b\b\b\b\b   52%\b\b\b\b\b\b   52%\b\b\b\b\b\b   53%\b\b\b\b\b\b   53%\b\b\b\b\b\b   53%\b\b\b\b\b\b   54%\b\b\b\b\b\b   54%\b\b\b\b\b\b   55%\b\b\b\b\b\b   55%\b\b\b\b\b\b   55%\b\b\b\b\b\b   56%\b\b\b\b\b\b   56%\b\b\b\b\b\b   57%\b\b\b\b\b\b   57%\b\b\b\b\b\b   57%\b\b\b\b\b\b   58%\b\b\b\b\b\b   58%\b\b\b\b\b\b   59%\b\b\b\b\b\b   59%\b\b\b\b\b\b   59%\b\b\b\b\b\b   60%\b\b\b\b\b\b   60%\b\b\b\b\b\b   61%\b\b\b\b\b\b   61%\b\b\b\b\b\b   61%\b\b\b\b\b\b   62%\b\b\b\b\b\b   62%\b\b\b\b\b\b   63%\b\b\b\b\b\b   63%\b\b\b\b\b\b   63%\b\b\b\b\b\b   64%\b\b\b\b\b\b   64%\b\b\b\b\b\b   65%\b\b\b\b\b\b   65%\b\b\b\b\b\b   65%\b\b\b\b\b\b   66%\b\b\b\b\b\b   66%\b\b\b\b\b\b   67%\b\b\b\b\b\b   67%\b\b\b\b\b\b   67%\b\b\b\b\b\b   68%\b\b\b\b\b\b   68%\b\b\b\b\b\b   69%\b\b\b\b\b\b   69%\b\b\b\b\b\b   69%\b\b\b\b\b\b   70%\b\b\b\b\b\b   70%\b\b\b\b\b\b   71%\b\b\b\b\b\b   71%\b\b\b\b\b\b   71%\b\b\b\b\b\b   72%\b\b\b\b\b\b   72%\b\b\b\b\b\b   73%\b\b\b\b\b\b   73%\b\b\b\b\b\b   73%\b\b\b\b\b\b   74%\b\b\b\b\b\b   74%\b\b\b\b\b\b   75%\b\b\b\b\b\b   75%\b\b\b\b\b\b   75%\b\b\b\b\b\b   76%\b\b\b\b\b\b   76%\b\b\b\b\b\b   77%\b\b\b\b\b\b   77%\b\b\b\b\b\b   77%\b\b\b\b\b\b   78%\b\b\b\b\b\b   78%\b\b\b\b\b\b   79%\b\b\b\b\b\b   79%\b\b\b\b\b\b   79%\b\b\b\b\b\b   80%\b\b\b\b\b\b   80%\b\b\b\b\b\b   81%\b\b\b\b\b\b   81%\b\b\b\b\b\b   81%\b\b\b\b\b\b   82%\b\b\b\b\b\b   82%\b\b\b\b\b\b   83%\b\b\b\b\b\b   83%\b\b\b\b\b\b   83%\b\b\b\b\b\b   84%\b\b\b\b\b\b   84%\b\b\b\b\b\b   85%\b\b\b\b\b\b   85%\b\b\b\b\b\b   85%\b\b\b\b\b\b   86%\b\b\b\b\b\b   86%\b\b\b\b\b\b   87%\b\b\b\b\b\b   87%\b\b\b\b\b\b   87%\b\b\b\b\b\b   88%\b\b\b\b\b\b   88%\b\b\b\b\b\b   89%\b\b\b\b\b\b   89%\b\b\b\b\b\b   89%\b\b\b\b\b\b   90%\b\b\b\b\b\b   90%\b\b\b\b\b\b   91%\b\b\b\b\b\b   91%\b\b\b\b\b\b   91%\b\b\b\b\b\b   92%\b\b\b\b\b\b   92%\b\b\b\b\b\b   93%\b\b\b\b\b\b   93%\b\b\b\b\b\b   93%\b\b\b\b\b\b   94%\b\b\b\b\b\b   94%\b\b\b\b\b\b   95%\b\b\b\b\b\b   95%\b\b\b\b\b\b   95%\b\b\b\b\b\b   96%\b\b\b\b\b\b   96%\b\b\b\b\b\b   97%\b\b\b\b\b\b   97%\b\b\b\b\b\b   97%\b\b\b\b\b\b   98%\b\b\b\b\b\b   98%\b\b\b\b\b\b   99%\b\b\b\b\b\b   99%\b\b\b\b\b\b   99%\b\b\b\b\b\b      \b\b\b\b\b\b\r\n",
      "\r\n",
      "Everything is Ok\r\n",
      "\r\n",
      "7-Zip [64] 9.20  Copyright (c) 1999-2010 Igor Pavlov  2010-11-18\r\n",
      "p7zip Version 9.20 (locale=en_CA.UTF-8,Utf16=on,HugeFiles=on,4 CPUs)\r\n",
      "Scanning\r\n",
      "\r\n",
      "Creating archive chr10_sw.bit.7z\r\n",
      "\r\n",
      "Compressing  chr10_sw.bit      \b\b\b\b\b\b    0%\b\b\b\b\b\b    0%\b\b\b\b\b\b    0%\b\b\b\b\b\b    1%\b\b\b\b\b\b    1%\b\b\b\b\b\b    1%\b\b\b\b\b\b    2%\b\b\b\b\b\b    2%\b\b\b\b\b\b    3%\b\b\b\b\b\b    3%\b\b\b\b\b\b    3%\b\b\b\b\b\b    4%\b\b\b\b\b\b    4%\b\b\b\b\b\b    5%\b\b\b\b\b\b    5%\b\b\b\b\b\b    5%\b\b\b\b\b\b    6%\b\b\b\b\b\b    6%\b\b\b\b\b\b    7%\b\b\b\b\b\b    7%\b\b\b\b\b\b    7%\b\b\b\b\b\b    8%\b\b\b\b\b\b    8%\b\b\b\b\b\b    9%\b\b\b\b\b\b    9%\b\b\b\b\b\b    9%\b\b\b\b\b\b   10%\b\b\b\b\b\b   10%\b\b\b\b\b\b   11%\b\b\b\b\b\b   11%\b\b\b\b\b\b   11%\b\b\b\b\b\b   12%\b\b\b\b\b\b   12%\b\b\b\b\b\b   13%\b\b\b\b\b\b   13%\b\b\b\b\b\b   13%\b\b\b\b\b\b   14%\b\b\b\b\b\b   14%\b\b\b\b\b\b   15%\b\b\b\b\b\b   15%\b\b\b\b\b\b   15%\b\b\b\b\b\b   16%\b\b\b\b\b\b   16%\b\b\b\b\b\b   17%\b\b\b\b\b\b   17%\b\b\b\b\b\b   17%\b\b\b\b\b\b   18%\b\b\b\b\b\b   18%\b\b\b\b\b\b   19%\b\b\b\b\b\b   19%\b\b\b\b\b\b   19%\b\b\b\b\b\b   20%\b\b\b\b\b\b   20%\b\b\b\b\b\b   21%\b\b\b\b\b\b   21%\b\b\b\b\b\b   21%\b\b\b\b\b\b   22%\b\b\b\b\b\b   22%\b\b\b\b\b\b   23%\b\b\b\b\b\b   23%\b\b\b\b\b\b   23%\b\b\b\b\b\b   24%\b\b\b\b\b\b   24%\b\b\b\b\b\b   25%\b\b\b\b\b\b   25%\b\b\b\b\b\b   25%\b\b\b\b\b\b   26%\b\b\b\b\b\b   26%\b\b\b\b\b\b   27%\b\b\b\b\b\b   27%\b\b\b\b\b\b   27%\b\b\b\b\b\b   28%\b\b\b\b\b\b   28%\b\b\b\b\b\b   29%\b\b\b\b\b\b   29%\b\b\b\b\b\b   29%\b\b\b\b\b\b   30%\b\b\b\b\b\b   30%\b\b\b\b\b\b   31%\b\b\b\b\b\b   31%\b\b\b\b\b\b   31%\b\b\b\b\b\b   32%\b\b\b\b\b\b   32%\b\b\b\b\b\b   33%\b\b\b\b\b\b   33%\b\b\b\b\b\b   33%\b\b\b\b\b\b   34%\b\b\b\b\b\b   34%\b\b\b\b\b\b   35%\b\b\b\b\b\b   35%\b\b\b\b\b\b   35%\b\b\b\b\b\b   36%\b\b\b\b\b\b   36%\b\b\b\b\b\b   37%\b\b\b\b\b\b   37%\b\b\b\b\b\b   37%\b\b\b\b\b\b   38%\b\b\b\b\b\b   38%\b\b\b\b\b\b   39%\b\b\b\b\b\b   39%\b\b\b\b\b\b   39%\b\b\b\b\b\b   40%\b\b\b\b\b\b   40%\b\b\b\b\b\b   41%\b\b\b\b\b\b   41%\b\b\b\b\b\b   41%\b\b\b\b\b\b   42%\b\b\b\b\b\b   42%\b\b\b\b\b\b   43%\b\b\b\b\b\b   43%\b\b\b\b\b\b   43%\b\b\b\b\b\b   44%\b\b\b\b\b\b   44%\b\b\b\b\b\b   45%\b\b\b\b\b\b   45%\b\b\b\b\b\b   45%\b\b\b\b\b\b   46%\b\b\b\b\b\b   46%\b\b\b\b\b\b   47%\b\b\b\b\b\b   47%\b\b\b\b\b\b   47%\b\b\b\b\b\b   48%\b\b\b\b\b\b   48%\b\b\b\b\b\b   49%\b\b\b\b\b\b   49%\b\b\b\b\b\b   49%\b\b\b\b\b\b   50%\b\b\b\b\b\b   50%\b\b\b\b\b\b   51%\b\b\b\b\b\b   51%\b\b\b\b\b\b   51%\b\b\b\b\b\b   52%\b\b\b\b\b\b   52%\b\b\b\b\b\b   53%\b\b\b\b\b\b   53%\b\b\b\b\b\b   53%\b\b\b\b\b\b   54%\b\b\b\b\b\b   54%\b\b\b\b\b\b   55%\b\b\b\b\b\b   55%\b\b\b\b\b\b   55%\b\b\b\b\b\b   56%\b\b\b\b\b\b   56%\b\b\b\b\b\b   57%\b\b\b\b\b\b   57%\b\b\b\b\b\b   57%\b\b\b\b\b\b   58%\b\b\b\b\b\b   58%\b\b\b\b\b\b   59%\b\b\b\b\b\b   59%\b\b\b\b\b\b   59%\b\b\b\b\b\b   60%\b\b\b\b\b\b   60%\b\b\b\b\b\b   61%\b\b\b\b\b\b   61%\b\b\b\b\b\b   61%\b\b\b\b\b\b   62%\b\b\b\b\b\b   62%\b\b\b\b\b\b   63%\b\b\b\b\b\b   63%\b\b\b\b\b\b   63%\b\b\b\b\b\b   64%\b\b\b\b\b\b   64%\b\b\b\b\b\b   65%\b\b\b\b\b\b   65%\b\b\b\b\b\b   65%\b\b\b\b\b\b   66%\b\b\b\b\b\b   66%\b\b\b\b\b\b   67%\b\b\b\b\b\b   67%\b\b\b\b\b\b   67%\b\b\b\b\b\b   68%\b\b\b\b\b\b   68%\b\b\b\b\b\b   69%\b\b\b\b\b\b   69%\b\b\b\b\b\b   69%\b\b\b\b\b\b   70%\b\b\b\b\b\b   70%\b\b\b\b\b\b   71%\b\b\b\b\b\b   71%\b\b\b\b\b\b   71%\b\b\b\b\b\b   72%\b\b\b\b\b\b   72%\b\b\b\b\b\b   73%\b\b\b\b\b\b   73%\b\b\b\b\b\b   73%\b\b\b\b\b\b   74%\b\b\b\b\b\b   74%\b\b\b\b\b\b   75%\b\b\b\b\b\b   75%\b\b\b\b\b\b   75%\b\b\b\b\b\b   76%\b\b\b\b\b\b   76%\b\b\b\b\b\b   77%\b\b\b\b\b\b   77%\b\b\b\b\b\b   77%\b\b\b\b\b\b   78%\b\b\b\b\b\b   78%\b\b\b\b\b\b   79%\b\b\b\b\b\b   79%\b\b\b\b\b\b   79%\b\b\b\b\b\b   80%\b\b\b\b\b\b   80%\b\b\b\b\b\b   81%\b\b\b\b\b\b   81%\b\b\b\b\b\b   81%\b\b\b\b\b\b   82%\b\b\b\b\b\b   82%\b\b\b\b\b\b   83%\b\b\b\b\b\b   83%\b\b\b\b\b\b   83%\b\b\b\b\b\b   84%\b\b\b\b\b\b   84%\b\b\b\b\b\b   85%\b\b\b\b\b\b   85%\b\b\b\b\b\b   85%\b\b\b\b\b\b   86%\b\b\b\b\b\b   86%\b\b\b\b\b\b   87%\b\b\b\b\b\b   87%\b\b\b\b\b\b   87%\b\b\b\b\b\b   88%\b\b\b\b\b\b   88%\b\b\b\b\b\b   89%\b\b\b\b\b\b   89%\b\b\b\b\b\b   89%\b\b\b\b\b\b   90%\b\b\b\b\b\b   90%\b\b\b\b\b\b   91%\b\b\b\b\b\b   91%\b\b\b\b\b\b   91%\b\b\b\b\b\b   92%\b\b\b\b\b\b   92%\b\b\b\b\b\b   93%\b\b\b\b\b\b   93%\b\b\b\b\b\b   93%\b\b\b\b\b\b   94%\b\b\b\b\b\b   94%\b\b\b\b\b\b   95%\b\b\b\b\b\b   95%\b\b\b\b\b\b   95%\b\b\b\b\b\b   96%\b\b\b\b\b\b   96%\b\b\b\b\b\b   97%\b\b\b\b\b\b   97%\b\b\b\b\b\b   97%\b\b\b\b\b\b   98%\b\b\b\b\b\b   98%\b\b\b\b\b\b   99%\b\b\b\b\b\b   99%\b\b\b\b\b\b   99%\b\b\b\b\b\b      \b\b\b\b\b\b\r\n",
      "\r\n",
      "Everything is Ok\r\n",
      "total 1441848\r\n",
      "-rw-rw-r-- 1 artem artem  32828686 Jan  3 17:20 chr10.bit\r\n",
      "-rw-rw-r-- 1 artem artem  29300481 Jan  3 18:30 chr10.bit.7z\r\n",
      "-rw-rw-r-- 1 artem artem  31232508 Jan  3 17:27 chr10.bit.bzip2\r\n",
      "-rw-rw-r-- 1 artem artem  31302823 Jan  3 17:27 chr10.bit.gzip\r\n",
      "-rw-rw-r-- 1 artem artem  29373000 Jan  3 17:27 chr10.bit.xz\r\n",
      "-rw-rw-r-- 1 artem artem 133190688 Jan  3 13:58 chr10.fa\r\n",
      "-rw-rw-r-- 1 artem artem  36475036 Jan  3 14:02 chr10.fa.bzip2\r\n",
      "-rw-rw-r-- 1 artem artem  39559214 Jan  3 14:03 chr10.fa.gzip\r\n",
      "-rw-rw-r-- 1 artem artem  32561152 Jan  3 14:02 chr10.fa.xz\r\n",
      "-rw-rw-r-- 1 artem artem  16414344 Jan  3 17:26 chr10_h.bit\r\n",
      "-rw-rw-r-- 1 artem artem  11502774 Jan  3 18:30 chr10_h.bit.7z\r\n",
      "-rw-rw-r-- 1 artem artem  13275813 Jan  3 17:27 chr10_h.bit.bzip2\r\n",
      "-rw-rw-r-- 1 artem artem  12684403 Jan  3 17:27 chr10_h.bit.gzip\r\n",
      "-rw-rw-r-- 1 artem artem  11511956 Jan  3 17:27 chr10_h.bit.xz\r\n",
      "-rw-rw-r-- 1 artem artem 133190688 Jan  3 13:58 chr10_h.fa\r\n",
      "-rw-rw-r-- 1 artem artem  16617129 Jan  3 14:08 chr10_h.fa.bzip2\r\n",
      "-rw-rw-r-- 1 artem artem  20231126 Jan  3 14:09 chr10_h.fa.gzip\r\n",
      "-rw-rw-r-- 1 artem artem  14816516 Jan  3 14:08 chr10_h.fa.xz\r\n",
      "-rw-rw-r-- 1 artem artem  16414344 Jan  3 17:25 chr10_mk.bit\r\n",
      "-rw-rw-r-- 1 artem artem  15875166 Jan  3 18:30 chr10_mk.bit.7z\r\n",
      "-rw-rw-r-- 1 artem artem  16318994 Jan  3 17:28 chr10_mk.bit.bzip2\r\n",
      "-rw-rw-r-- 1 artem artem  16314822 Jan  3 17:28 chr10_mk.bit.gzip\r\n",
      "-rw-rw-r-- 1 artem artem  15886272 Jan  3 17:28 chr10_mk.bit.xz\r\n",
      "-rw-rw-r-- 1 artem artem 133190688 Jan  3 13:58 chr10_mk.fa\r\n",
      "-rw-rw-r-- 1 artem artem  22982657 Jan  3 14:15 chr10_mk.fa.bzip2\r\n",
      "-rw-rw-r-- 1 artem artem  24013369 Jan  3 14:15 chr10_mk.fa.gzip\r\n",
      "-rw-rw-r-- 1 artem artem  18682512 Jan  3 14:15 chr10_mk.fa.xz\r\n",
      "-rw-rw-r-- 1 artem artem  16414344 Jan  3 17:24 chr10_ry.bit\r\n",
      "-rw-rw-r-- 1 artem artem  14788686 Jan  3 18:30 chr10_ry.bit.7z\r\n",
      "-rw-rw-r-- 1 artem artem  15639416 Jan  3 17:28 chr10_ry.bit.bzip2\r\n",
      "-rw-rw-r-- 1 artem artem  15753561 Jan  3 17:28 chr10_ry.bit.gzip\r\n",
      "-rw-rw-r-- 1 artem artem  14805456 Jan  3 17:28 chr10_ry.bit.xz\r\n",
      "-rw-rw-r-- 1 artem artem 133190688 Jan  3 13:58 chr10_ry.fa\r\n",
      "-rw-rw-r-- 1 artem artem  22080751 Jan  3 14:22 chr10_ry.fa.bzip2\r\n",
      "-rw-rw-r-- 1 artem artem  23786189 Jan  3 14:22 chr10_ry.fa.gzip\r\n",
      "-rw-rw-r-- 1 artem artem  17769008 Jan  3 14:21 chr10_ry.fa.xz\r\n",
      "-rw-rw-r-- 1 artem artem  16414344 Jan  3 17:25 chr10_sw.bit\r\n",
      "-rw-rw-r-- 1 artem artem  15357556 Jan  3 18:30 chr10_sw.bit.7z\r\n",
      "-rw-rw-r-- 1 artem artem  16086943 Jan  3 17:28 chr10_sw.bit.bzip2\r\n",
      "-rw-rw-r-- 1 artem artem  15886961 Jan  3 17:28 chr10_sw.bit.gzip\r\n",
      "-rw-rw-r-- 1 artem artem  15368488 Jan  3 17:28 chr10_sw.bit.xz\r\n",
      "-rw-rw-r-- 1 artem artem 133190688 Jan  3 13:58 chr10_sw.fa\r\n",
      "-rw-rw-r-- 1 artem artem  22161976 Jan  3 14:29 chr10_sw.fa.bzip2\r\n",
      "-rw-rw-r-- 1 artem artem  23702722 Jan  3 14:29 chr10_sw.fa.gzip\r\n",
      "-rw-rw-r-- 1 artem artem  18187388 Jan  3 14:29 chr10_sw.fa.xz\r\n"
     ]
    }
   ],
   "source": [
    "cd /home/artem/Serratus/resources/hg19/chr10\n",
    "\n",
    "CHRBIT=$(ls *.bit)\n",
    "\n",
    "# add 7zip algorithm\n",
    "\n",
    "for FA in $CHRBIT\n",
    "do\n",
    "    7z a $FA.7z $FA\n",
    "done\n",
    "\n",
    "ls -l"
   ]
  },
  {
   "cell_type": "markdown",
   "metadata": {},
   "source": [
    "## Results & Discussion II: IO\n",
    "\n",
    "|File|8 * bits|Compression Ratio|bits/base|\n",
    "|----|--------|-----------------|---------|\n",
    "|chr10.bit|32828686|1|2.00000003|\n",
    "|chr10.bit.7z|29300481|1.120414576|1.785053562|\n",
    "|chr10.bit.bzip2|31232508|1.051106302|1.902757148|\n",
    "|chr10.bit.gzip|31302823|1.04874522|1.907040902|\n",
    "|chr10.bit.xz|29373000|1.117648385|1.789471589|\n",
    "|chr10_h.bit|16414344|1|1.000000076|\n",
    "|chr10_h.bit.7z|11502774|1.426990046|0.70077579|\n",
    "|chr10_h.bit.bzip2|13275813|1.236409702|0.808793456|\n",
    "|chr10_h.bit.gzip|12684403|1.294057276|0.772763381|\n",
    "|chr10_h.bit.xz|11511956|1.425851871|0.701335178|\n",
    "|chr10_mk.bit|16414344|1|1.000000076|\n",
    "|chr10_mk.bit.7z|15875166|1.033963613|0.967152096|\n",
    "|chr10_mk.bit.bzip2|16318994|1.005842885|0.994191132|\n",
    "|chr10_mk.bit.gzip|16314822|1.006100097|0.993936964|\n",
    "|chr10_mk.bit.xz|15886272|1.033240775|0.9678287|\n",
    "|chr10_ry.bit|16414344|1|1.000000076|\n",
    "|chr10_ry.bit.7z|14788686|1.109925791|0.900961204|\n",
    "|chr10_ry.bit.bzip2|15639416|1.049549676|0.952789657|\n",
    "|chr10_ry.bit.gzip|15753561|1.041944993|0.959743636|\n",
    "|chr10_ry.bit.xz|14805456|1.108668588|0.901982871|\n",
    "|chr10_sw.bit|16414344|1|1.000000076|\n",
    "|chr10_sw.bit.7z|15357556|1.068812251|0.935618089|\n",
    "|chr10_sw.bit.bzip2|16086943|1.020351971|0.980054045|\n",
    "|chr10_sw.bit.gzip|15886961|1.033195965|0.967870675|\n",
    "|chr10_sw.bit.xz|15368488|1.068051978|0.936284092|\n",
    "\n",
    "\n",
    "This is more in line with what I was expecting, a much lower compression ratio after converting the data to a raw binary format. Using these algorithms, all non-standard encodings performed worse then the standard encoding with respect to compression ratio. The H encoding, which is lossy performed better, but this can also be because there is lost information in it (i.e. it has less then half the data of the standard encoding).\n",
    "\n",
    "It is also noteworthy that using this method, RY encoding seems to compress the best (most information content) compared to MK or SW.\n"
   ]
  }
 ],
 "metadata": {
  "kernelspec": {
   "display_name": "Bash",
   "language": "bash",
   "name": "bash"
  },
  "language_info": {
   "codemirror_mode": "shell",
   "file_extension": ".sh",
   "mimetype": "text/x-sh",
   "name": "bash"
  }
 },
 "nbformat": 4,
 "nbformat_minor": 0
}
